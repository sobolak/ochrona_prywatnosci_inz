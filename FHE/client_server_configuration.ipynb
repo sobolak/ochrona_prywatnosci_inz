{
 "cells": [
  {
   "cell_type": "code",
   "execution_count": 1,
   "metadata": {},
   "outputs": [],
   "source": [
    "# IMPORTS\n",
    "\n",
    "import platform\n",
    "import sys\n",
    "import time\n",
    "from shutil import copyfile\n",
    "from tempfile import TemporaryDirectory\n",
    "\n",
    "import numpy\n",
    "from sklearn.datasets import load_breast_cancer\n",
    "\n",
    "from concrete.ml.deployment import FHEModelClient, FHEModelDev, FHEModelServer\n",
    "from concrete.ml.sklearn import XGBClassifier"
   ]
  },
  {
   "cell_type": "code",
   "execution_count": 2,
   "metadata": {},
   "outputs": [],
   "source": [
    "# ENVIROMENT CLASS\n",
    "\n",
    "class OnDiskenviroment:\n",
    "    def __init__(self):\n",
    "        self.server_dir = TemporaryDirectory()  \n",
    "        self.client_dir = TemporaryDirectory()\n",
    "        self.dev_dir = TemporaryDirectory()\n",
    "\n",
    "    def client_send_evaluation_key_to_server(self, serialized_evaluation_keys):\n",
    "        with open(self.server_dir.name + \"/serialized_evaluation_keys.ekl\", \"wb\") as f:\n",
    "            f.write(serialized_evaluation_keys)\n",
    "\n",
    "    def client_send_input_to_server_for_prediction(self, input_after_encryption):\n",
    "        with open(self.server_dir.name + \"/serialized_evaluation_keys.ekl\", \"rb\") as f:\n",
    "            serialized_evaluation_keys = f.read()\n",
    "        time_begin = time.time()\n",
    "        encrypted_prediction = FHEModelServer(self.server_dir.name).run(\n",
    "            input_after_encryption, serialized_evaluation_keys\n",
    "        )\n",
    "        time_end = time.time()\n",
    "        with open(self.server_dir.name + \"/encrypted_prediction.enc\", \"wb\") as f:\n",
    "            f.write(encrypted_prediction)\n",
    "        return time_end - time_begin\n",
    "\n",
    "    def dev_send_model_to_server(self):\n",
    "        copyfile(self.dev_dir.name + \"/server.zip\", self.server_dir.name + \"/server.zip\")\n",
    "\n",
    "    def server_send_encrypted_prediction_to_client(self):\n",
    "        with open(self.server_dir.name + \"/encrypted_prediction.enc\", \"rb\") as f:\n",
    "            encrypted_prediction = f.read()\n",
    "        return encrypted_prediction\n",
    "\n",
    "    def dev_send_clientspecs_and_modelspecs_to_client(self):\n",
    "        copyfile(self.dev_dir.name + \"/client.zip\", self.client_dir.name + \"/client.zip\")\n",
    "        copyfile(\n",
    "            self.dev_dir.name + \"/serialized_processing.json\",\n",
    "            self.client_dir.name + \"/serialized_processing.json\",\n",
    "        )\n",
    "\n",
    "    def cleanup(self):\n",
    "        self.server_dir.cleanup()\n",
    "        self.client_dir.cleanup()\n",
    "        self.dev_dir.cleanup()"
   ]
  },
  {
   "cell_type": "code",
   "execution_count": 3,
   "metadata": {},
   "outputs": [],
   "source": [
    "# MODEL PREPARATION TO FHE AND ENVIROMENT\n",
    "\n",
    "X, y = load_breast_cancer(return_X_y=True)\n",
    "\n",
    "X_model_owner, X_client = X, X\n",
    "y_model_owner, y_client = y, y\n",
    "\n",
    "n_estimators = 10\n",
    "\n",
    "model_to_fhe = XGBClassifier(n_bits=2, n_estimators=n_estimators, max_depth=3)\n",
    "model_to_fhe.fit(X_model_owner, y_model_owner)\n",
    "model_to_fhe.compile(X_model_owner)\n",
    "\n",
    "enviroment = OnDiskenviroment()\n",
    "\n",
    "fhemodel_to_fhe = FHEModelDev(enviroment.dev_dir.name, model_to_fhe)\n",
    "fhemodel_to_fhe.save()\n"
   ]
  },
  {
   "cell_type": "code",
   "execution_count": 4,
   "metadata": {},
   "outputs": [
    {
     "name": "stdout",
     "output_type": "stream",
     "text": [
      "total 60K\n",
      "-rw-rw-r-- 1 cybant cybant  464 lis 15 22:05 client.zip\n",
      "-rw-rw-r-- 1 cybant cybant  44K lis 15 22:05 serialized_processing.json\n",
      "-rw-rw-r-- 1 cybant cybant 8,3K lis 15 22:05 server.zip\n",
      "total 12K\n",
      "-rw-rw-r-- 1 cybant cybant 8,3K lis 15 22:05 server.zip\n",
      "total 48K\n",
      "-rw-rw-r-- 1 cybant cybant 464 lis 15 22:05 client.zip\n",
      "-rw-rw-r-- 1 cybant cybant 44K lis 15 22:05 serialized_processing.json\n"
     ]
    }
   ],
   "source": [
    "# SENDING APPROPRIATE DATA TO ENVIROMENT \n",
    "\n",
    "!ls -lh $enviroment.dev_dir.name\n",
    "enviroment.dev_send_model_to_server()\n",
    "!ls -lh $enviroment.server_dir.name\n",
    "enviroment.dev_send_clientspecs_and_modelspecs_to_client()\n",
    "!ls -lh $enviroment.client_dir.name"
   ]
  },
  {
   "cell_type": "code",
   "execution_count": 5,
   "metadata": {},
   "outputs": [
    {
     "name": "stdout",
     "output_type": "stream",
     "text": [
      "Evaluation keys size: 119.88 MB\n"
     ]
    },
    {
     "name": "stderr",
     "output_type": "stream",
     "text": [
      "KeySetCache: miss, regenerating /tmp/tmpuv97oliy/7071120041192343400/0_0\n"
     ]
    }
   ],
   "source": [
    "# CLIENT PREPERATION - KEYS\n",
    "\n",
    "client_model = FHEModelClient(enviroment.client_dir.name, key_dir=enviroment.client_dir.name)\n",
    "client_model.generate_private_and_evaluation_keys()\n",
    "\n",
    "serialized_evaluation_keys = client_model.get_serialized_evaluation_keys()\n",
    "\n",
    "print(f\"Evaluation keys size: {sys.getsizeof(serialized_evaluation_keys) / 1024 / 1024:.2f} MB\")\n",
    "enviroment.client_send_evaluation_key_to_server(serialized_evaluation_keys)"
   ]
  },
  {
   "cell_type": "code",
   "execution_count": 6,
   "metadata": {},
   "outputs": [
    {
     "name": "stdout",
     "output_type": "stream",
     "text": [
      "Step 0 done\n",
      "Step 20 done\n",
      "Step 40 done\n",
      "Step 60 done\n",
      "Step 80 done\n",
      "Step 100 done\n",
      "Step 120 done\n",
      "Step 140 done\n",
      "Step 160 done\n",
      "Step 180 done\n",
      "Step 200 done\n",
      "Step 220 done\n",
      "Step 240 done\n",
      "Step 260 done\n",
      "Step 280 done\n",
      "Step 300 done\n",
      "Step 320 done\n",
      "Step 340 done\n",
      "Step 360 done\n",
      "Step 380 done\n",
      "Step 400 done\n",
      "Step 420 done\n",
      "Step 440 done\n",
      "Step 460 done\n",
      "Step 480 done\n",
      "Step 500 done\n",
      "Step 520 done\n",
      "Step 540 done\n",
      "Step 560 done\n"
     ]
    }
   ],
   "source": [
    "# MAIN LOOP WHICH ENRYPT DATA AND MAKE STATISTICS\n",
    "\n",
    "decrypted_predictions = []\n",
    "time_exec = []\n",
    "for i in range(X_client.shape[0]):\n",
    "    if i % 20 == 0:\n",
    "        print(\"Step \" + str(i) + \" done\")\n",
    "    buffor = X_client[[i], :]\n",
    "    input_after_encryption = client_model.quantize_encrypt_serialize(buffor)\n",
    "    time_exec += [enviroment.client_send_input_to_server_for_prediction(input_after_encryption)]\n",
    "    encrypted_prediction = enviroment.server_send_encrypted_prediction_to_client()\n",
    "    decrypted_prediction = client_model.deserialize_decrypt_dequantize(encrypted_prediction)[0]\n",
    "    decrypted_predictions.append(decrypted_prediction)\n",
    "\n",
    "clear_prediction_classes = model_to_fhe.predict_proba(X_client).argmax(axis=1)\n",
    "decrypted_predictions_classes = numpy.array(decrypted_predictions).argmax(axis=1)\n",
    "accuracy = (clear_prediction_classes == decrypted_predictions_classes).mean()\n",
    "\n"
   ]
  },
  {
   "cell_type": "code",
   "execution_count": 7,
   "metadata": {},
   "outputs": [
    {
     "name": "stdout",
     "output_type": "stream",
     "text": [
      "Encrypted data is 1336.48 larger than data\n",
      "Execution time are [5.72, 7.59, 7.05, 9.27, 8.96, 6.53, 5.91, 5.13, 5.17, 5.18, 4.99, 5.27, 5.17, 5.1, 5.0, 5.02, 5.22, 5.12, 5.17, 5.21, 5.07, 5.47, 5.36, 5.23, 5.34, 5.58, 5.3, 5.29, 5.31, 5.46, 5.25, 5.55, 6.21, 5.27, 5.14, 5.49, 6.27, 7.3, 6.72, 5.14, 5.83, 6.07, 6.63, 5.73, 5.21, 6.82, 5.74, 5.26, 6.01, 5.28, 5.45, 8.41, 6.38, 5.49, 5.46, 5.57, 5.31, 5.58, 5.58, 5.46, 5.57, 5.63, 5.43, 5.51, 5.44, 5.43, 5.51, 5.57, 6.42, 5.56, 5.65, 5.5, 7.29, 5.7, 5.76, 6.38, 5.7, 5.45, 5.8, 5.68, 5.92, 9.73, 7.51, 6.24, 6.3, 5.34, 5.38, 5.29, 5.41, 5.71, 6.25, 5.63, 5.65, 5.61, 8.76, 7.45, 6.68, 5.56, 5.98, 6.65, 5.57, 6.64, 5.39, 5.52, 5.46, 6.22, 6.02, 5.9, 5.53, 5.74, 6.38, 5.49, 5.45, 5.53, 6.27, 6.51, 6.46, 6.36, 5.85, 5.62, 5.59, 5.78, 5.59, 6.37, 5.9, 5.84, 6.13, 6.05, 6.0, 5.82, 5.91, 5.65, 5.68, 5.78, 5.74, 5.79, 5.79, 5.67, 5.55, 6.65, 7.92, 6.74, 5.78, 5.51, 5.62, 6.0, 5.42, 5.43, 5.43, 6.67, 6.43, 6.17, 6.08, 6.28, 5.63, 5.57, 5.51, 5.61, 5.58, 5.62, 5.6, 5.99, 5.71, 5.86, 6.12, 5.66, 5.72, 5.75, 5.8, 5.87, 5.58, 5.51, 5.74, 6.67, 5.74, 6.21, 5.68, 5.4, 5.52, 5.37, 5.6, 6.57, 5.46, 5.56, 5.47, 5.64, 5.47, 6.26, 5.66, 5.8, 5.54, 5.79, 5.74, 5.63, 5.49, 5.67, 5.5, 5.58, 5.95, 6.46, 5.74, 5.85, 5.5, 5.61, 5.49, 5.72, 5.96, 5.53, 5.63, 5.91, 5.7, 5.52, 5.51, 5.45, 5.5, 5.47, 5.54, 5.83, 6.02, 6.03, 6.13, 5.93, 5.69, 5.67, 5.75, 5.52, 5.47, 5.68, 5.53, 5.47, 5.61, 5.5, 5.46, 5.63, 6.15, 5.5, 5.45, 5.41, 5.89, 5.58, 5.55, 5.83, 5.62, 5.76, 5.62, 5.6, 5.51, 5.45, 5.57, 5.6, 5.63, 5.56, 5.5, 5.44, 5.64, 6.14, 5.57, 5.58, 6.05, 5.48, 5.89, 5.63, 5.33, 6.18, 5.97, 5.73, 5.49, 6.05, 5.8, 5.96, 6.38, 6.06, 5.62, 5.65, 5.5, 5.36, 5.74, 5.55, 5.72, 5.41, 5.51, 5.55, 5.36, 5.32, 5.23, 5.18, 5.46, 5.47, 5.36, 5.18, 5.66, 5.41, 6.63, 7.91, 7.58, 6.7, 6.14, 5.69, 5.38, 5.5, 5.51, 5.19, 5.1, 5.29, 5.12, 6.09, 6.49, 5.38, 5.69, 5.88, 6.42, 5.69, 6.21, 7.22, 7.74, 7.06, 7.0, 6.56, 5.33, 7.74, 5.4, 6.53, 6.05, 5.77, 5.54, 6.1, 5.81, 5.22, 5.58, 5.34, 5.74, 5.42, 5.68, 5.56, 5.13, 5.2, 5.61, 5.55, 5.46, 5.29, 5.18, 5.84, 5.66, 6.22, 5.52, 5.21, 5.54, 5.12, 5.21, 5.22, 5.15, 5.28, 5.06, 5.05, 5.83, 5.82, 5.42, 5.21, 5.11, 5.28, 5.33, 5.11, 5.09, 5.12, 5.36, 5.13, 5.38, 5.08, 5.16, 5.38, 5.95, 5.62, 5.82, 5.79, 6.11, 5.76, 5.26, 5.29, 5.23, 5.23, 5.16, 5.44, 5.25, 5.52, 5.52, 6.1, 5.47, 5.91, 5.67, 5.24, 5.44, 5.37, 5.29, 5.09, 5.42, 5.72, 5.64, 5.35, 5.3, 5.87, 5.25, 5.2, 5.32, 5.31, 5.12, 5.62, 5.55, 5.24, 5.2, 5.1, 5.12, 5.23, 5.28, 5.25, 5.11, 5.23, 5.12, 5.08, 5.09, 5.07, 5.3, 5.12, 5.11, 5.09, 5.12, 5.14, 5.27, 5.07, 5.12, 5.11, 5.12, 5.08, 5.12, 5.24, 5.17, 5.59, 6.12, 7.23, 5.94, 6.7, 5.49, 6.28, 5.29, 5.96, 7.29, 10.56, 6.23, 5.24, 5.28, 7.29, 8.78, 8.48, 7.99, 7.76, 8.1, 7.61, 7.82, 7.97, 8.0, 7.33, 6.84, 6.98, 6.32, 6.96, 5.18, 5.41, 5.15, 5.12, 5.71, 6.17, 5.3, 5.3, 5.62, 5.43, 5.22, 5.42, 5.27, 5.94, 5.45, 5.5, 6.04, 5.55, 6.07, 6.17, 6.14, 5.89, 5.12, 4.99, 5.0, 5.19, 5.03, 5.02, 5.17, 5.0, 4.99, 4.98, 5.01, 4.97, 5.06, 5.05, 5.79, 5.73, 5.16, 5.11, 5.1, 5.07, 4.99, 4.99, 5.01, 5.0, 5.01, 5.08, 5.06, 5.03, 5.03, 5.01, 5.03, 5.04, 4.99, 5.04, 5.94, 6.27, 5.25, 5.08, 5.19, 5.38, 5.21, 5.54, 5.32, 5.1, 5.63, 5.1, 5.12, 5.12, 5.52, 5.16, 5.08, 5.13, 5.06, 5.04, 5.15, 5.11, 5.47, 6.58, 5.21, 5.19, 5.33, 5.69, 5.52, 5.62, 5.1, 5.14, 6.1, 5.16, 5.43, 5.38, 5.18, 5.35, 5.18, 5.1, 5.22, 5.29, 11.65, 8.23, 5.48, 4.37, 4.81, 5.14, 5.17], ie an average of 5.72 seconds\n",
      "Accuracy between FHE prediction and clear model is: 100%\n"
     ]
    }
   ],
   "source": [
    "# INTERESTING PRINTOUTS\n",
    "print(f\"Encrypted data is \"f\"{sys.getsizeof(input_after_encryption)/sys.getsizeof(buffor):.2f}\"\" larger than data\")\n",
    "print(f\"Execution time are {[numpy.round(e, 2) for e in time_exec]}, ie an average of \" f\"{numpy.mean(time_exec):.2f} seconds\")\n",
    "print(f\"Accuracy between FHE prediction and clear model is: {accuracy*100:.0f}%\")"
   ]
  }
 ],
 "metadata": {
  "execution": {
   "timeout": 10800
  },
  "kernelspec": {
   "display_name": "Python 3.9.15 ('.venv': venv)",
   "language": "python",
   "name": "python3"
  },
  "language_info": {
   "codemirror_mode": {
    "name": "ipython",
    "version": 3
   },
   "file_extension": ".py",
   "mimetype": "text/x-python",
   "name": "python",
   "nbconvert_exporter": "python",
   "pygments_lexer": "ipython3",
   "version": "3.9.15"
  },
  "vscode": {
   "interpreter": {
    "hash": "97cc4f82940a2f2a6542d8159ecfd93124bb34f6b07cd76ace459e4adf29cd16"
   }
  }
 },
 "nbformat": 4,
 "nbformat_minor": 2
}
