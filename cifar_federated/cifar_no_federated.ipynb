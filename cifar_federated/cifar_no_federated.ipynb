{
  "cells": [
    {
      "cell_type": "code",
      "execution_count": null,
      "metadata": {
        "id": "15EdvhNFG7m0",
        "colab": {
          "base_uri": "https://localhost:8080/"
        },
        "outputId": "19845259-aae1-4a06-f68a-8d87395f5949"
      },
      "outputs": [
        {
          "output_type": "stream",
          "name": "stdout",
          "text": [
            "\u001b[K     |████████████████████████████████| 821 kB 4.9 MB/s \n",
            "\u001b[K     |████████████████████████████████| 53 kB 1.7 MB/s \n",
            "\u001b[K     |████████████████████████████████| 238 kB 38.8 MB/s \n",
            "\u001b[K     |████████████████████████████████| 887 kB 40.6 MB/s \n",
            "\u001b[K     |████████████████████████████████| 65.1 MB 96 kB/s \n",
            "\u001b[K     |████████████████████████████████| 126 kB 59.2 MB/s \n",
            "\u001b[K     |████████████████████████████████| 4.2 MB 30.5 MB/s \n",
            "\u001b[K     |████████████████████████████████| 542.6 MB 20 kB/s \n",
            "\u001b[K     |████████████████████████████████| 45 kB 3.1 MB/s \n",
            "\u001b[K     |████████████████████████████████| 121 kB 66.1 MB/s \n",
            "\u001b[K     |████████████████████████████████| 251 kB 47.9 MB/s \n",
            "\u001b[K     |████████████████████████████████| 1.7 MB 50.0 MB/s \n",
            "\u001b[K     |████████████████████████████████| 6.0 MB 62.4 MB/s \n",
            "\u001b[K     |████████████████████████████████| 439 kB 68.9 MB/s \n",
            "\u001b[K     |████████████████████████████████| 542.7 MB 16 kB/s \n",
            "\u001b[K     |████████████████████████████████| 543.0 MB 25 kB/s \n",
            "\u001b[K     |████████████████████████████████| 542.8 MB 3.5 kB/s \n",
            "\u001b[?25h  Building wheel for jax (setup.py) ... \u001b[?25l\u001b[?25hdone\n",
            "\u001b[31mERROR: pip's dependency resolver does not currently take into account all the packages that are installed. This behaviour is the source of the following dependency conflicts.\n",
            "tensorflow 2.9.2 requires flatbuffers<2,>=1.12, but you have flatbuffers 2.0.7 which is incompatible.\n",
            "spacy 3.4.2 requires tqdm<5.0.0,>=4.38.0, but you have tqdm 4.28.1 which is incompatible.\n",
            "pymc 4.1.4 requires cachetools>=4.2.1, but you have cachetools 3.1.1 which is incompatible.\n",
            "prophet 1.1.1 requires tqdm>=4.36.1, but you have tqdm 4.28.1 which is incompatible.\n",
            "panel 0.12.1 requires tqdm>=4.48.0, but you have tqdm 4.28.1 which is incompatible.\n",
            "grpcio-status 1.48.2 requires grpcio>=1.48.2, but you have grpcio 1.37.1 which is incompatible.\n",
            "google-cloud-bigquery 3.3.6 requires grpcio<2.0dev,>=1.47.0, but you have grpcio 1.37.1 which is incompatible.\u001b[0m\n",
            "\u001b[K     |████████████████████████████████| 6.0 MB 5.0 MB/s \n",
            "\u001b[31mERROR: pip's dependency resolver does not currently take into account all the packages that are installed. This behaviour is the source of the following dependency conflicts.\n",
            "tf-nightly 2.12.0.dev20221109 requires tb-nightly~=2.11.0.a, but you have tb-nightly 2.12.0a20221112 which is incompatible.\u001b[0m\n",
            "\u001b[?25h"
          ]
        }
      ],
      "source": [
        "!pip install --quiet --upgrade tensorflow-federated-nightly\n",
        "!pip install --quiet --upgrade nest-asyncio\n",
        "!pip install --quiet --upgrade tb-nightly  \n",
        "\n",
        "import nest_asyncio\n",
        "import collections\n",
        "import numpy as np\n",
        "import pandas as pd\n",
        "import tensorflow as tf\n",
        "import tensorflow_federated as tff\n",
        "import tensorflow_privacy as tfp\n",
        "from matplotlib import pyplot as plt"
      ]
    },
    {
      "cell_type": "code",
      "source": [
        "(x_train, y_train),(x_test, y_test) = tf.keras.datasets.cifar100.load_data()\n",
        "\n",
        "y_train = y_train.reshape(-1,)\n",
        "y_test = y_test.reshape(-1,)\n",
        "\n",
        "x_train = x_train/255\n",
        "x_test = x_test/255\n",
        "\n",
        "model_normal = tf.keras.models.Sequential([\n",
        "    tf.keras.layers.Conv2D(input_shape=(32,32,3), kernel_size=(2, 2), padding='same', strides=(2,2), filters = 32),\n",
        "    tf.keras.layers.MaxPooling2D(pool_size=(2,2), strides = (1,1), padding = \"same\"),\n",
        "    tf.keras.layers.Conv2D(kernel_size=(2, 2), padding='same', strides=(2,2), filters = 64),\n",
        "    tf.keras.layers.MaxPooling2D(pool_size=(2,2), strides = (1,1), padding = \"same\"),\n",
        "    tf.keras.layers.Flatten(),\n",
        "    tf.keras.layers.Dense(256, activation=tf.nn.relu),\n",
        "    tf.keras.layers.Dense(128, activation=tf.nn.relu),\n",
        "    tf.keras.layers.Dense(100, activation=tf.nn.softmax)])\n",
        "\n",
        "model_normal.summary()\n",
        "\n",
        "model_normal.compile(loss = 'sparse_categorical_crossentropy',\n",
        "                     optimizer = 'SGD',\n",
        "                     metrics = ['accuracy'])"
      ],
      "metadata": {
        "id": "Lj4k2ZP_IoIn",
        "colab": {
          "base_uri": "https://localhost:8080/"
        },
        "outputId": "5489cd1e-0e76-457a-ffe0-db2590147e69"
      },
      "execution_count": null,
      "outputs": [
        {
          "output_type": "stream",
          "name": "stdout",
          "text": [
            "Downloading data from https://www.cs.toronto.edu/~kriz/cifar-100-python.tar.gz\n",
            "169001437/169001437 [==============================] - 2s 0us/step\n",
            "Model: \"sequential\"\n",
            "_________________________________________________________________\n",
            " Layer (type)                Output Shape              Param #   \n",
            "=================================================================\n",
            " conv2d (Conv2D)             (None, 16, 16, 32)        416       \n",
            "                                                                 \n",
            " max_pooling2d (MaxPooling2D  (None, 16, 16, 32)       0         \n",
            " )                                                               \n",
            "                                                                 \n",
            " conv2d_1 (Conv2D)           (None, 8, 8, 64)          8256      \n",
            "                                                                 \n",
            " max_pooling2d_1 (MaxPooling  (None, 8, 8, 64)         0         \n",
            " 2D)                                                             \n",
            "                                                                 \n",
            " flatten (Flatten)           (None, 4096)              0         \n",
            "                                                                 \n",
            " dense (Dense)               (None, 256)               1048832   \n",
            "                                                                 \n",
            " dense_1 (Dense)             (None, 128)               32896     \n",
            "                                                                 \n",
            " dense_2 (Dense)             (None, 100)               12900     \n",
            "                                                                 \n",
            "=================================================================\n",
            "Total params: 1,103,300\n",
            "Trainable params: 1,103,300\n",
            "Non-trainable params: 0\n",
            "_________________________________________________________________\n"
          ]
        }
      ]
    },
    {
      "cell_type": "code",
      "source": [
        "from google.colab import drive\n",
        "drive.mount('/content/drive')"
      ],
      "metadata": {
        "colab": {
          "base_uri": "https://localhost:8080/"
        },
        "id": "HhxqU-EJyzFF",
        "outputId": "6f42f4c3-0f59-4090-cb38-342ce39e1819"
      },
      "execution_count": null,
      "outputs": [
        {
          "output_type": "stream",
          "name": "stdout",
          "text": [
            "Mounted at /content/drive\n"
          ]
        }
      ]
    },
    {
      "cell_type": "code",
      "source": [
        "csv_logger = tf.keras.callbacks.CSVLogger('/content/drive/MyDrive/inz/CIFAR5.csv')\n",
        "\n",
        "model_normal.fit(x_train, y_train, epochs = 50, callbacks=[csv_logger])\n"
      ],
      "metadata": {
        "id": "zgw4rp8HIoLF",
        "colab": {
          "base_uri": "https://localhost:8080/"
        },
        "outputId": "10adcc47-3518-41db-9f8d-9381d2c45e8f"
      },
      "execution_count": null,
      "outputs": [
        {
          "output_type": "stream",
          "name": "stdout",
          "text": [
            "Epoch 1/50\n",
            "1563/1563 [==============================] - 38s 24ms/step - loss: 4.4683 - accuracy: 0.0364\n",
            "Epoch 2/50\n",
            "1563/1563 [==============================] - 37s 24ms/step - loss: 3.8791 - accuracy: 0.1156\n",
            "Epoch 3/50\n",
            "1563/1563 [==============================] - 39s 25ms/step - loss: 3.5044 - accuracy: 0.1759\n",
            "Epoch 4/50\n",
            "1563/1563 [==============================] - 38s 25ms/step - loss: 3.2700 - accuracy: 0.2156\n",
            "Epoch 5/50\n",
            "1563/1563 [==============================] - 37s 24ms/step - loss: 3.1065 - accuracy: 0.2467\n",
            "Epoch 6/50\n",
            "1563/1563 [==============================] - 35s 23ms/step - loss: 2.9616 - accuracy: 0.2748\n",
            "Epoch 7/50\n",
            "1563/1563 [==============================] - 35s 23ms/step - loss: 2.8303 - accuracy: 0.2996\n",
            "Epoch 8/50\n",
            "1563/1563 [==============================] - 37s 24ms/step - loss: 2.7116 - accuracy: 0.3220\n",
            "Epoch 9/50\n",
            "1563/1563 [==============================] - 36s 23ms/step - loss: 2.6063 - accuracy: 0.3421\n",
            "Epoch 10/50\n",
            "1563/1563 [==============================] - 35s 22ms/step - loss: 2.5104 - accuracy: 0.3601\n",
            "Epoch 11/50\n",
            "1563/1563 [==============================] - 37s 23ms/step - loss: 2.4195 - accuracy: 0.3779\n",
            "Epoch 12/50\n",
            "1563/1563 [==============================] - 37s 23ms/step - loss: 2.3335 - accuracy: 0.3974\n",
            "Epoch 13/50\n",
            "1563/1563 [==============================] - 38s 24ms/step - loss: 2.2533 - accuracy: 0.4136\n",
            "Epoch 14/50\n",
            "1563/1563 [==============================] - 38s 25ms/step - loss: 2.1750 - accuracy: 0.4323\n",
            "Epoch 15/50\n",
            "1563/1563 [==============================] - 36s 23ms/step - loss: 2.1003 - accuracy: 0.4473\n",
            "Epoch 16/50\n",
            "1563/1563 [==============================] - 41s 26ms/step - loss: 2.0257 - accuracy: 0.4630\n",
            "Epoch 17/50\n",
            "1563/1563 [==============================] - 38s 24ms/step - loss: 1.9562 - accuracy: 0.4793\n",
            "Epoch 18/50\n",
            "1563/1563 [==============================] - 37s 24ms/step - loss: 1.8851 - accuracy: 0.4963\n",
            "Epoch 19/50\n",
            "1563/1563 [==============================] - 35s 22ms/step - loss: 1.8141 - accuracy: 0.5130\n",
            "Epoch 20/50\n",
            "1563/1563 [==============================] - 37s 24ms/step - loss: 1.7478 - accuracy: 0.5254\n",
            "Epoch 21/50\n",
            "1563/1563 [==============================] - 39s 25ms/step - loss: 1.6775 - accuracy: 0.5443\n",
            "Epoch 22/50\n",
            "1563/1563 [==============================] - 35s 22ms/step - loss: 1.6128 - accuracy: 0.5577\n",
            "Epoch 23/50\n",
            "1563/1563 [==============================] - 36s 23ms/step - loss: 1.5405 - accuracy: 0.5753\n",
            "Epoch 24/50\n",
            "1563/1563 [==============================] - 36s 23ms/step - loss: 1.4770 - accuracy: 0.5902\n",
            "Epoch 25/50\n",
            "1563/1563 [==============================] - 37s 24ms/step - loss: 1.4050 - accuracy: 0.6092\n",
            "Epoch 26/50\n",
            "1563/1563 [==============================] - 36s 23ms/step - loss: 1.3376 - accuracy: 0.6245\n",
            "Epoch 27/50\n",
            "1563/1563 [==============================] - 34s 22ms/step - loss: 1.2787 - accuracy: 0.6408\n",
            "Epoch 28/50\n",
            "1563/1563 [==============================] - 35s 22ms/step - loss: 1.2056 - accuracy: 0.6566\n",
            "Epoch 29/50\n",
            "1563/1563 [==============================] - 35s 23ms/step - loss: 1.1375 - accuracy: 0.6736\n",
            "Epoch 30/50\n",
            "1563/1563 [==============================] - 36s 23ms/step - loss: 1.0736 - accuracy: 0.6905\n",
            "Epoch 31/50\n",
            "1563/1563 [==============================] - 36s 23ms/step - loss: 1.0090 - accuracy: 0.7080\n",
            "Epoch 32/50\n",
            "1563/1563 [==============================] - 39s 25ms/step - loss: 0.9437 - accuracy: 0.7263\n",
            "Epoch 33/50\n",
            "1563/1563 [==============================] - 40s 25ms/step - loss: 0.8790 - accuracy: 0.7441\n",
            "Epoch 34/50\n",
            "1563/1563 [==============================] - 37s 24ms/step - loss: 0.8208 - accuracy: 0.7582\n",
            "Epoch 35/50\n",
            "1563/1563 [==============================] - 36s 23ms/step - loss: 0.7645 - accuracy: 0.7741\n",
            "Epoch 36/50\n",
            "1563/1563 [==============================] - 37s 24ms/step - loss: 0.6999 - accuracy: 0.7939\n",
            "Epoch 37/50\n",
            "1563/1563 [==============================] - 37s 24ms/step - loss: 0.6497 - accuracy: 0.8059\n",
            "Epoch 38/50\n",
            "1563/1563 [==============================] - 37s 23ms/step - loss: 0.6062 - accuracy: 0.8175\n",
            "Epoch 39/50\n",
            "1563/1563 [==============================] - 37s 24ms/step - loss: 0.5533 - accuracy: 0.8326\n",
            "Epoch 40/50\n",
            "1563/1563 [==============================] - 38s 25ms/step - loss: 0.5008 - accuracy: 0.8481\n",
            "Epoch 41/50\n",
            "1563/1563 [==============================] - 38s 24ms/step - loss: 0.4549 - accuracy: 0.8630\n",
            "Epoch 42/50\n",
            "1563/1563 [==============================] - 38s 24ms/step - loss: 0.4246 - accuracy: 0.8703\n",
            "Epoch 43/50\n",
            "1563/1563 [==============================] - 39s 25ms/step - loss: 0.3874 - accuracy: 0.8826\n",
            "Epoch 44/50\n",
            "1563/1563 [==============================] - 38s 25ms/step - loss: 0.3567 - accuracy: 0.8901\n",
            "Epoch 45/50\n",
            "1563/1563 [==============================] - 37s 24ms/step - loss: 0.3290 - accuracy: 0.8990\n",
            "Epoch 46/50\n",
            "1563/1563 [==============================] - 37s 24ms/step - loss: 0.2931 - accuracy: 0.9105\n",
            "Epoch 47/50\n",
            "1563/1563 [==============================] - 37s 24ms/step - loss: 0.2706 - accuracy: 0.9183\n",
            "Epoch 48/50\n",
            "1563/1563 [==============================] - 37s 24ms/step - loss: 0.2513 - accuracy: 0.9205\n",
            "Epoch 49/50\n",
            "1563/1563 [==============================] - 35s 23ms/step - loss: 0.2394 - accuracy: 0.9271\n",
            "Epoch 50/50\n",
            "1563/1563 [==============================] - 40s 25ms/step - loss: 0.2226 - accuracy: 0.9322\n"
          ]
        },
        {
          "output_type": "execute_result",
          "data": {
            "text/plain": [
              "<keras.callbacks.History at 0x7fb27269f0d0>"
            ]
          },
          "metadata": {},
          "execution_count": 4
        }
      ]
    },
    {
      "cell_type": "code",
      "source": [],
      "metadata": {
        "id": "CjVLglDxIoNg"
      },
      "execution_count": null,
      "outputs": []
    }
  ],
  "metadata": {
    "colab": {
      "collapsed_sections": [],
      "machine_shape": "hm",
      "provenance": []
    },
    "kernelspec": {
      "display_name": "Python 3",
      "name": "python3"
    },
    "language_info": {
      "name": "python"
    }
  },
  "nbformat": 4,
  "nbformat_minor": 0
}