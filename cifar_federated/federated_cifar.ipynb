{
  "cells": [
    {
      "cell_type": "code",
      "execution_count": 8,
      "metadata": {
        "id": "15EdvhNFG7m0",
        "colab": {
          "base_uri": "https://localhost:8080/"
        },
        "outputId": "ac432240-7cd6-4ced-fe2e-bd7988d52a6b"
      },
      "outputs": [
        {
          "output_type": "stream",
          "name": "stdout",
          "text": [
            "\u001b[31mERROR: pip's dependency resolver does not currently take into account all the packages that are installed. This behaviour is the source of the following dependency conflicts.\n",
            "tf-nightly 2.12.0.dev20221109 requires tb-nightly~=2.11.0.a, but you have tb-nightly 2.12.0a20221112 which is incompatible.\u001b[0m\n"
          ]
        }
      ],
      "source": [
        "!pip install --quiet --upgrade tensorflow-federated-nightly\n",
        "!pip install --quiet --upgrade nest-asyncio\n",
        "!pip install --quiet --upgrade tb-nightly  \n",
        "\n",
        "import nest_asyncio\n",
        "import collections\n",
        "import numpy as np\n",
        "import pandas as pd\n",
        "import tensorflow as tf\n",
        "import tensorflow_federated as tff\n",
        "import tensorflow_privacy as tfp\n",
        "from matplotlib import pyplot as plt"
      ]
    },
    {
      "cell_type": "code",
      "execution_count": 9,
      "metadata": {
        "colab": {
          "base_uri": "https://localhost:8080/"
        },
        "id": "ulJMVyrnvi3K",
        "outputId": "e7504430-1312-450e-8e75-27381c9e60d7"
      },
      "outputs": [
        {
          "output_type": "execute_result",
          "data": {
            "text/plain": [
              "b'Federated learning + differential privacy'"
            ]
          },
          "metadata": {},
          "execution_count": 9
        }
      ],
      "source": [
        "nest_asyncio.apply()\n",
        "\n",
        "@tff.federated_computation\n",
        "def start():\n",
        "  return 'Federated learning + differential privacy'\n",
        "\n",
        "start()"
      ]
    },
    {
      "cell_type": "code",
      "execution_count": 10,
      "metadata": {
        "id": "Wp33MLcNwdzQ"
      },
      "outputs": [],
      "source": [
        "train, test = tff.simulation.datasets.cifar100.load_data()"
      ]
    },
    {
      "cell_type": "code",
      "execution_count": 11,
      "metadata": {
        "colab": {
          "base_uri": "https://localhost:8080/"
        },
        "id": "azu3UymnweB6",
        "outputId": "da02d22f-9f8d-44f7-e6ef-e75c09ed6538"
      },
      "outputs": [
        {
          "output_type": "stream",
          "name": "stdout",
          "text": [
            "Structure type:\n"
          ]
        },
        {
          "output_type": "execute_result",
          "data": {
            "text/plain": [
              "OrderedDict([('coarse_label', TensorSpec(shape=(), dtype=tf.int64, name=None)),\n",
              "             ('image',\n",
              "              TensorSpec(shape=(32, 32, 3), dtype=tf.uint8, name=None)),\n",
              "             ('label', TensorSpec(shape=(), dtype=tf.int64, name=None))])"
            ]
          },
          "metadata": {},
          "execution_count": 11
        }
      ],
      "source": [
        "print(\"Structure type:\") \n",
        "train.element_type_structure"
      ]
    },
    {
      "cell_type": "code",
      "execution_count": 12,
      "metadata": {
        "colab": {
          "base_uri": "https://localhost:8080/"
        },
        "id": "muvrZx7N02G7",
        "outputId": "42bdc219-bdfc-4fb4-a259-eb8857a5ccd6"
      },
      "outputs": [
        {
          "output_type": "stream",
          "name": "stdout",
          "text": [
            "Number of clients in training data\n"
          ]
        },
        {
          "output_type": "execute_result",
          "data": {
            "text/plain": [
              "500"
            ]
          },
          "metadata": {},
          "execution_count": 12
        }
      ],
      "source": [
        "print(\"Number of clients in training data\") \n",
        "len(train.client_ids)"
      ]
    },
    {
      "cell_type": "code",
      "execution_count": 13,
      "metadata": {
        "colab": {
          "base_uri": "https://localhost:8080/"
        },
        "id": "VXj72SSw02Jh",
        "outputId": "f05cca4f-91d2-4a9b-9394-486e83ae5a9b"
      },
      "outputs": [
        {
          "output_type": "stream",
          "name": "stdout",
          "text": [
            "Number of clients in testing data\n"
          ]
        },
        {
          "output_type": "execute_result",
          "data": {
            "text/plain": [
              "100"
            ]
          },
          "metadata": {},
          "execution_count": 13
        }
      ],
      "source": [
        "print(\"Number of clients in testing data\") \n",
        "len(test.client_ids)"
      ]
    },
    {
      "cell_type": "code",
      "execution_count": 14,
      "metadata": {
        "colab": {
          "base_uri": "https://localhost:8080/",
          "height": 479
        },
        "id": "MqED-GcGweOc",
        "outputId": "828373b1-6c87-48ff-cf61-589763c0c360"
      },
      "outputs": [
        {
          "output_type": "display_data",
          "data": {
            "text/plain": [
              "<Figure size 864x504 with 20 Axes>"
            ],
            "image/png": "[encoded data removed]"
          },
          "metadata": {
            "needs_background": "light"
          }
        }
      ],
      "source": [
        "figure_1 = plt.figure(figsize=(12, 7))\n",
        "figure_1.suptitle('Ilość danych pewnego rodzaju dla serwera')\n",
        "for i in range(20):\n",
        "  first_clients_data = train.create_tf_dataset_for_client(train.client_ids[i])\n",
        "  plot = collections.defaultdict(list)\n",
        "  for example in first_clients_data:\n",
        "    label = example['label'].numpy()\n",
        "    plot[label].append(label)\n",
        "  plt.subplot(4, 5, i+1)\n",
        "  plt.title('Użytkownik {}'.format(i))\n",
        "  for number in range(100):\n",
        "    plt.hist(\n",
        "        plot[number],\n",
        "        density=False,\n",
        "        bins=list(range(0,100)))\n"
      ]
    },
    {
      "cell_type": "code",
      "source": [
        "def get_emnist_dataset():\n",
        "  emnist_train, emnist_test = tff.simulation.datasets.cifar100.load_data()\n",
        "\n",
        "  def element_change(element):\n",
        "    return collections.OrderedDict(\n",
        "        x=tf.expand_dims(element['image'], -1)/255, y=element['label'])\n",
        "\n",
        "  def train_preprocess(dataset):\n",
        "    return (dataset.map(element_change)\n",
        "                   .shuffle(buffer_size=418)\n",
        "                   .repeat(1)\n",
        "                   .batch(32, drop_remainder=False))\n",
        "\n",
        "  def test_preprocess(dataset):\n",
        "    return dataset.map(element_change).batch(128, drop_remainder=False)\n",
        "\n",
        "  emnist_train = emnist_train.preprocess(train_preprocess)\n",
        "  emnist_test = test_preprocess(\n",
        "      emnist_test.create_tf_dataset_from_all_clients())\n",
        "  return emnist_train, emnist_test\n",
        "\n",
        "emnist_train, emnist_test = get_emnist_dataset()"
      ],
      "metadata": {
        "id": "N3z1vh9zw4tU",
        "colab": {
          "base_uri": "https://localhost:8080/"
        },
        "outputId": "9b244390-96e2-477c-f466-51ca222b8de1"
      },
      "execution_count": 15,
      "outputs": [
        {
          "output_type": "stream",
          "name": "stderr",
          "text": [
            "WARNING:tensorflow:From /usr/local/lib/python3.7/dist-packages/tensorflow/python/autograph/pyct/static_analysis/liveness.py:83: Analyzer.lamba_check (from tensorflow.python.autograph.pyct.static_analysis.liveness) is deprecated and will be removed after 2023-09-23.\n",
            "Instructions for updating:\n",
            "Lambda fuctions will be no more assumed to be used in the statement where they are used, or at least in the same block. https://github.com/tensorflow/tensorflow/issues/56089\n"
          ]
        }
      ]
    },
    {
      "cell_type": "code",
      "source": [
        "emnist_train.element_type_structure"
      ],
      "metadata": {
        "colab": {
          "base_uri": "https://localhost:8080/"
        },
        "id": "ttwP5iRwwu7j",
        "outputId": "3ac2cbcc-018f-473f-f79a-9129a0befd0a"
      },
      "execution_count": 16,
      "outputs": [
        {
          "output_type": "execute_result",
          "data": {
            "text/plain": [
              "OrderedDict([('x',\n",
              "              TensorSpec(shape=(None, 32, 32, 3, 1), dtype=tf.float32, name=None)),\n",
              "             ('y', TensorSpec(shape=(None,), dtype=tf.int64, name=None))])"
            ]
          },
          "metadata": {},
          "execution_count": 16
        }
      ]
    },
    {
      "cell_type": "code",
      "execution_count": 17,
      "metadata": {
        "id": "-VrnWokPweup"
      },
      "outputs": [],
      "source": [
        "def my_model_fn():\n",
        "  model = tf.keras.models.Sequential([\n",
        "      tf.keras.layers.Conv2D(input_shape=(32,32,3), kernel_size=(2, 2), padding='same', strides=(2,2), filters = 32),\n",
        "      tf.keras.layers.MaxPooling2D(pool_size=(2,2), strides = (1,1), padding = \"same\"),\n",
        "      tf.keras.layers.Conv2D(kernel_size=(2, 2), padding='same', strides=(2,2), filters = 64),\n",
        "      tf.keras.layers.MaxPooling2D(pool_size=(2,2), strides = (1,1), padding = \"same\"),\n",
        "      tf.keras.layers.Flatten(),\n",
        "      tf.keras.layers.Dense(256, activation=tf.nn.relu),\n",
        "      tf.keras.layers.Dense(128, activation=tf.nn.relu),\n",
        "      tf.keras.layers.Dense(100, activation=tf.nn.softmax)])\n",
        "  return tff.learning.from_keras_model(\n",
        "      keras_model=model,\n",
        "      loss=tf.keras.losses.SparseCategoricalCrossentropy(from_logits=True),\n",
        "      input_spec=emnist_test.element_spec,\n",
        "      metrics=[tf.keras.metrics.SparseCategoricalAccuracy()])"
      ]
    },
    {
      "cell_type": "code",
      "execution_count": 18,
      "metadata": {
        "id": "_2q9nwgzhpWM"
      },
      "outputs": [],
      "source": [
        "tff.backends.native.set_local_python_execution_context(clients_per_thread=10)\n",
        "\n",
        "total_clients = len(emnist_train.client_ids)\n",
        "\n",
        "def train(rounds, noise_multiplier, clients_per_round, data_frame):\n",
        "  aggregation_factory = tff.learning.model_update_aggregator.dp_aggregator(\n",
        "      noise_multiplier, clients_per_round)\n",
        "\n",
        "  sampling_prob = clients_per_round / total_clients\n",
        "\n",
        "  learning_process = tff.learning.algorithms.build_unweighted_fed_avg(\n",
        "        my_model_fn,\n",
        "        client_optimizer_fn=lambda: tf.keras.optimizers.SGD(0.01),\n",
        "        server_optimizer_fn=lambda: tf.keras.optimizers.SGD(1.0, momentum=0.9),\n",
        "        model_aggregator=aggregation_factory)\n",
        "\n",
        "  eval_process = tff.learning.build_federated_evaluation(my_model_fn)\n",
        "\n",
        "  state = learning_process.initialize()\n",
        "  for round in range(rounds):\n",
        "    if round % 2 == 0:\n",
        "      model_weights = learning_process.get_model_weights(state)\n",
        "      metrics = eval_process(model_weights, [emnist_test])['eval']\n",
        "      print(f'Runda {round:3d}: {metrics}')\n",
        "      data_frame = data_frame.append({'Runda': round,\n",
        "                                      'NoiseMultiplier': noise_multiplier,\n",
        "                                      **metrics}, ignore_index=True)\n",
        "    x = np.random.uniform(size=total_clients)\n",
        "    sampled_clients = [\n",
        "        emnist_train.client_ids[i] for i in range(total_clients)\n",
        "        if x[i] < sampling_prob]\n",
        "    sampled_train_data = [\n",
        "        emnist_train.create_tf_dataset_for_client(client)\n",
        "        for client in sampled_clients]\n",
        "\n",
        "    result = learning_process.next(state, sampled_train_data)\n",
        "    state = result.state\n",
        "    metrics = result.metrics\n",
        "\n",
        "  model_weights = learning_process.get_model_weights(state)\n",
        "  metrics = eval_process(model_weights, [emnist_test])['eval']\n",
        "  print(f'Runda {rounds:3d}: {metrics}')\n",
        "  data_frame = data_frame.append({'Runda': rounds,\n",
        "                                  'NoiseMultiplier': noise_multiplier,\n",
        "                                  **metrics}, ignore_index=True)\n",
        "\n",
        "  return data_frame\n"
      ]
    },
    {
      "cell_type": "code",
      "execution_count": 19,
      "metadata": {
        "id": "5fnxgqaY1YOp",
        "colab": {
          "base_uri": "https://localhost:8080/"
        },
        "outputId": "799da900-2a1b-45c1-ea6b-097e8d47200a"
      },
      "outputs": [
        {
          "output_type": "stream",
          "name": "stdout",
          "text": [
            "Mounted at /content/drive\n"
          ]
        }
      ],
      "source": [
        "from google.colab import drive\n",
        "drive.mount('/content/drive')\n"
      ]
    },
    {
      "cell_type": "code",
      "execution_count": 20,
      "metadata": {
        "id": "thh0kXMEDoW6"
      },
      "outputs": [],
      "source": [
        "def client10(noise_multiplier):\n",
        "  rounds = 2\n",
        "  clients_per_round = 10\n",
        "  data_noise_10_clients_basic_model = pd.DataFrame()\n",
        "\n",
        "  print(\"Mnożnik szumu \" + str(noise_multiplier))\n",
        "  data_noise_10_clients_basic_model = train(rounds, noise_multiplier, clients_per_round, data_noise_10_clients_basic_model)\n",
        "  print()\n",
        "\n",
        "  return data_noise_10_clients_basic_model\n"
      ]
    },
    {
      "cell_type": "code",
      "execution_count": 22,
      "metadata": {
        "id": "F4ROh0ogDohd"
      },
      "outputs": [],
      "source": [
        "def client30(noise_multiplier):\n",
        "  data_noise_30_clients_basic_model = pd.DataFrame()\n",
        "  rounds = 2\n",
        "  clients_per_round = 30\n",
        "\n",
        "  print(\"Mnożnik szumu \" + str(noise_multiplier))\n",
        "  data_noise_30_clients_basic_model = train(rounds, noise_multiplier, clients_per_round, data_noise_30_clients_basic_model)\n",
        "  print()\n",
        "\n",
        "  return data_noise_30_clients_basic_model"
      ]
    },
    {
      "cell_type": "code",
      "execution_count": 24,
      "metadata": {
        "id": "r2aFHZe5wfCa"
      },
      "outputs": [],
      "source": [
        "def client50(noise_multiplier):\n",
        "  data_noise_50_clients_basic_model = pd.DataFrame()\n",
        "  rounds = 2\n",
        "  clients_per_round = 50\n",
        "\n",
        "  print(\"Mnożnik szumu \" + str(noise_multiplier))\n",
        "  data_noise_50_clients_basic_model = train(rounds, noise_multiplier, clients_per_round, data_noise_50_clients_basic_model)\n",
        "  print()\n",
        "\n",
        "  return data_noise_50_clients_basic_model\n"
      ]
    },
    {
      "cell_type": "code",
      "execution_count": 26,
      "metadata": {
        "id": "KzKjNM_EDok3"
      },
      "outputs": [],
      "source": [
        "def client70(noise_multiplier):\n",
        "  data_noise_70_clients_basic_model = pd.DataFrame()\n",
        "  rounds = 2\n",
        "  clients_per_round = 70\n",
        "\n",
        "  print(\"Mnożnik szumu \" + str(noise_multiplier))\n",
        "  data_noise_70_clients_basic_model = train(rounds, noise_multiplier, clients_per_round, data_noise_70_clients_basic_model)\n",
        "  print()\n",
        "\n",
        "  return data_noise_70_clients_basic_model"
      ]
    },
    {
      "cell_type": "code",
      "execution_count": 28,
      "metadata": {
        "id": "IwdSM5YDDooR"
      },
      "outputs": [],
      "source": [
        "def client100(noise_multiplier):\n",
        "  data_noise_100_clients_basic_model = pd.DataFrame()\n",
        "  rounds = 2\n",
        "  clients_per_round = 100\n",
        "\n",
        "  print(\"Mnożnik szumu \" + str(noise_multiplier))\n",
        "  data_noise_100_clients_basic_model = train(rounds, noise_multiplier, clients_per_round, data_noise_100_clients_basic_model)\n",
        "  print()\n",
        "\n",
        "  return data_noise_100_clients_basic_model"
      ]
    },
    {
      "cell_type": "code",
      "execution_count": 21,
      "metadata": {
        "colab": {
          "base_uri": "https://localhost:8080/"
        },
        "id": "3VshlLIgtLJ0",
        "outputId": "174c8bff-8108-412c-d972-7e44ec62fabe"
      },
      "outputs": [
        {
          "output_type": "stream",
          "name": "stdout",
          "text": [
            "Mnożnik szumu 0.0\n",
            "Runda   0: OrderedDict([('sparse_categorical_accuracy', 0.0106), ('loss', 4.605208), ('num_examples', 10000), ('num_batches', 79)])\n",
            "Runda   2: OrderedDict([('sparse_categorical_accuracy', 0.0106), ('loss', 4.6052074), ('num_examples', 10000), ('num_batches', 79)])\n",
            "\n"
          ]
        }
      ],
      "source": [
        "buff = client10(0.0)\n"
      ]
    },
    {
      "cell_type": "code",
      "execution_count": 23,
      "metadata": {
        "colab": {
          "base_uri": "https://localhost:8080/"
        },
        "id": "n7kN8AV54tlN",
        "outputId": "b06a2e83-a233-4058-84f2-197b1feae7e4"
      },
      "outputs": [
        {
          "output_type": "stream",
          "name": "stdout",
          "text": [
            "Mnożnik szumu 0.0\n",
            "Runda   0: OrderedDict([('sparse_categorical_accuracy', 0.0123), ('loss', 4.6051097), ('num_examples', 10000), ('num_batches', 79)])\n",
            "Runda   2: OrderedDict([('sparse_categorical_accuracy', 0.0122), ('loss', 4.60511), ('num_examples', 10000), ('num_batches', 79)])\n",
            "\n"
          ]
        }
      ],
      "source": [
        "buff = client30(0.0)\n"
      ]
    },
    {
      "cell_type": "code",
      "execution_count": 25,
      "metadata": {
        "colab": {
          "base_uri": "https://localhost:8080/"
        },
        "id": "2ab2EQkwC8QT",
        "outputId": "b707ff06-82ae-4919-fbd6-909048c897d3"
      },
      "outputs": [
        {
          "output_type": "stream",
          "name": "stdout",
          "text": [
            "Mnożnik szumu 0.0\n",
            "Runda   0: OrderedDict([('sparse_categorical_accuracy', 0.01), ('loss', 4.605151), ('num_examples', 10000), ('num_batches', 79)])\n",
            "Runda   2: OrderedDict([('sparse_categorical_accuracy', 0.0101), ('loss', 4.6051507), ('num_examples', 10000), ('num_batches', 79)])\n",
            "\n"
          ]
        }
      ],
      "source": [
        "buff = client50(0.0)\n"
      ]
    },
    {
      "cell_type": "code",
      "execution_count": 27,
      "metadata": {
        "id": "qPfjQJw8DsP6",
        "colab": {
          "base_uri": "https://localhost:8080/"
        },
        "outputId": "611a0635-b0a2-4c35-c10d-19176bdc2083"
      },
      "outputs": [
        {
          "output_type": "stream",
          "name": "stdout",
          "text": [
            "Mnożnik szumu 0.0\n",
            "Runda   0: OrderedDict([('sparse_categorical_accuracy', 0.0115), ('loss', 4.6051245), ('num_examples', 10000), ('num_batches', 79)])\n",
            "Runda   2: OrderedDict([('sparse_categorical_accuracy', 0.0115), ('loss', 4.6051245), ('num_examples', 10000), ('num_batches', 79)])\n",
            "\n"
          ]
        }
      ],
      "source": [
        "buff = client70(0.0)\n"
      ]
    },
    {
      "cell_type": "code",
      "execution_count": 29,
      "metadata": {
        "id": "bl48XL0CEcrN",
        "colab": {
          "base_uri": "https://localhost:8080/"
        },
        "outputId": "536e45a9-d01e-46ae-ab84-8da400d21b92"
      },
      "outputs": [
        {
          "output_type": "stream",
          "name": "stdout",
          "text": [
            "Mnożnik szumu 0.0\n",
            "Runda   0: OrderedDict([('sparse_categorical_accuracy', 0.0104), ('loss', 4.605156), ('num_examples', 10000), ('num_batches', 79)])\n",
            "Runda   2: OrderedDict([('sparse_categorical_accuracy', 0.0104), ('loss', 4.6051555), ('num_examples', 10000), ('num_batches', 79)])\n",
            "\n"
          ]
        }
      ],
      "source": [
        "buff = client100(0.0)\n"
      ]
    }
  ],
  "metadata": {
    "colab": {
      "collapsed_sections": [],
      "machine_shape": "hm",
      "provenance": []
    },
    "kernelspec": {
      "display_name": "Python 3",
      "name": "python3"
    },
    "language_info": {
      "name": "python"
    }
  },
  "nbformat": 4,
  "nbformat_minor": 0
}