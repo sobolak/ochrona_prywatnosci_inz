{
 "cells": [
  {
   "cell_type": "code",
   "execution_count": 1,
   "metadata": {},
   "outputs": [],
   "source": [
    "# IMPORTS\n",
    "\n",
    "import platform\n",
    "import sys\n",
    "import time\n",
    "from shutil import copyfile\n",
    "from tempfile import TemporaryDirectory\n",
    "\n",
    "import numpy\n",
    "from sklearn.datasets import load_breast_cancer\n",
    "\n",
    "from concrete.ml.deployment import FHEModelClient, FHEModelDev, FHEModelServer\n",
    "from concrete.ml.sklearn import XGBClassifier"
   ]
  },
  {
   "cell_type": "code",
   "execution_count": 2,
   "metadata": {},
   "outputs": [],
   "source": [
    "# ENVIROMENT CLASS\n",
    "\n",
    "class OnDiskenviroment:\n",
    "    def __init__(self):\n",
    "        self.server_dir = TemporaryDirectory()  \n",
    "        self.client_dir = TemporaryDirectory()\n",
    "        self.dev_dir = TemporaryDirectory()\n",
    "\n",
    "    def client_send_evaluation_key_to_server(self, serialized_evaluation_keys):\n",
    "        with open(self.server_dir.name + \"/serialized_evaluation_keys.ekl\", \"wb\") as f:\n",
    "            f.write(serialized_evaluation_keys)\n",
    "\n",
    "    def client_send_input_to_server_for_prediction(self, input_after_encryption):\n",
    "        with open(self.server_dir.name + \"/serialized_evaluation_keys.ekl\", \"rb\") as f:\n",
    "            serialized_evaluation_keys = f.read()\n",
    "        time_begin = time.time()\n",
    "        encrypted_prediction = FHEModelServer(self.server_dir.name).run(\n",
    "            input_after_encryption, serialized_evaluation_keys\n",
    "        )\n",
    "        time_end = time.time()\n",
    "        with open(self.server_dir.name + \"/encrypted_prediction.enc\", \"wb\") as f:\n",
    "            f.write(encrypted_prediction)\n",
    "        return time_end - time_begin\n",
    "\n",
    "    def dev_send_model_to_server(self):\n",
    "        copyfile(self.dev_dir.name + \"/server.zip\", self.server_dir.name + \"/server.zip\")\n",
    "\n",
    "    def server_send_encrypted_prediction_to_client(self):\n",
    "        with open(self.server_dir.name + \"/encrypted_prediction.enc\", \"rb\") as f:\n",
    "            encrypted_prediction = f.read()\n",
    "        return encrypted_prediction\n",
    "\n",
    "    def dev_send_clientspecs_and_modelspecs_to_client(self):\n",
    "        copyfile(self.dev_dir.name + \"/client.zip\", self.client_dir.name + \"/client.zip\")\n",
    "        copyfile(\n",
    "            self.dev_dir.name + \"/serialized_processing.json\",\n",
    "            self.client_dir.name + \"/serialized_processing.json\",\n",
    "        )\n",
    "\n",
    "    def cleanup(self):\n",
    "        self.server_dir.cleanup()\n",
    "        self.client_dir.cleanup()\n",
    "        self.dev_dir.cleanup()"
   ]
  },
  {
   "cell_type": "code",
   "execution_count": 3,
   "metadata": {},
   "outputs": [],
   "source": [
    "# MODEL PREPARATION TO FHE AND ENVIROMENT\n",
    "\n",
    "X, y = load_breast_cancer(return_X_y=True)\n",
    "\n",
    "X_model_owner, X_client = X, X\n",
    "y_model_owner, y_client = y, y\n",
    "\n",
    "n_estimators = 10\n",
    "\n",
    "model_to_fhe = XGBClassifier(n_bits=2, n_estimators=n_estimators, max_depth=3)\n",
    "model_to_fhe.fit(X_model_owner, y_model_owner)\n",
    "model_to_fhe.compile(X_model_owner)\n",
    "\n",
    "enviroment = OnDiskenviroment()\n",
    "\n",
    "fhemodel_to_fhe = FHEModelDev(enviroment.dev_dir.name, model_to_fhe)\n",
    "fhemodel_to_fhe.save()\n"
   ]
  },
  {
   "cell_type": "code",
   "execution_count": 4,
   "metadata": {},
   "outputs": [
    {
     "name": "stdout",
     "output_type": "stream",
     "text": [
      "total 60K\n",
      "-rw-rw-r-- 1 cybant cybant  464 lis 16 10:35 client.zip\n",
      "-rw-rw-r-- 1 cybant cybant  44K lis 16 10:35 serialized_processing.json\n",
      "-rw-rw-r-- 1 cybant cybant 8,3K lis 16 10:35 server.zip\n",
      "total 12K\n",
      "-rw-rw-r-- 1 cybant cybant 8,3K lis 16 10:35 server.zip\n",
      "total 48K\n",
      "-rw-rw-r-- 1 cybant cybant 464 lis 16 10:35 client.zip\n",
      "-rw-rw-r-- 1 cybant cybant 44K lis 16 10:35 serialized_processing.json\n"
     ]
    }
   ],
   "source": [
    "# SENDING APPROPRIATE DATA TO ENVIROMENT \n",
    "\n",
    "!ls -lh $enviroment.dev_dir.name\n",
    "enviroment.dev_send_model_to_server()\n",
    "!ls -lh $enviroment.server_dir.name\n",
    "enviroment.dev_send_clientspecs_and_modelspecs_to_client()\n",
    "!ls -lh $enviroment.client_dir.name"
   ]
  },
  {
   "cell_type": "code",
   "execution_count": 5,
   "metadata": {},
   "outputs": [
    {
     "name": "stdout",
     "output_type": "stream",
     "text": [
      "Evaluation keys size: 119.88 MB\n"
     ]
    },
    {
     "name": "stderr",
     "output_type": "stream",
     "text": [
      "KeySetCache: miss, regenerating /tmp/tmpdy54jji6/7071120041192343400/0_0\n"
     ]
    }
   ],
   "source": [
    "# CLIENT PREPERATION - KEYS\n",
    "\n",
    "client_model = FHEModelClient(enviroment.client_dir.name, key_dir=enviroment.client_dir.name)\n",
    "client_model.generate_private_and_evaluation_keys()\n",
    "\n",
    "serialized_evaluation_keys = client_model.get_serialized_evaluation_keys()\n",
    "\n",
    "print(f\"Evaluation keys size: {sys.getsizeof(serialized_evaluation_keys) / 1024 / 1024:.2f} MB\")\n",
    "enviroment.client_send_evaluation_key_to_server(serialized_evaluation_keys)"
   ]
  },
  {
   "cell_type": "code",
   "execution_count": 6,
   "metadata": {},
   "outputs": [
    {
     "name": "stdout",
     "output_type": "stream",
     "text": [
      "Step 0 done\n",
      "Step 20 done\n",
      "Step 40 done\n",
      "Step 60 done\n",
      "Step 80 done\n",
      "Step 100 done\n",
      "Step 120 done\n",
      "Step 140 done\n",
      "Step 160 done\n",
      "Step 180 done\n",
      "Step 200 done\n",
      "Step 220 done\n",
      "Step 240 done\n",
      "Step 260 done\n",
      "Step 280 done\n",
      "Step 300 done\n",
      "Step 320 done\n",
      "Step 340 done\n",
      "Step 360 done\n",
      "Step 380 done\n",
      "Step 400 done\n",
      "Step 420 done\n",
      "Step 440 done\n",
      "Step 460 done\n",
      "Step 480 done\n",
      "Step 500 done\n",
      "Step 520 done\n",
      "Step 540 done\n",
      "Step 560 done\n"
     ]
    }
   ],
   "source": [
    "# MAIN LOOP WHICH ENRYPT DATA AND MAKE STATISTICS\n",
    "\n",
    "decrypted_predictions = []\n",
    "time_exec = []\n",
    "for i in range(X_client.shape[0]):\n",
    "    if i % 20 == 0:\n",
    "        print(\"Step \" + str(i)  + \" done\")\n",
    "    buffor = X_client[[i], :]\n",
    "    input_after_encryption = client_model.quantize_encrypt_serialize(buffor)\n",
    "    time_exec += [enviroment.client_send_input_to_server_for_prediction(input_after_encryption)]\n",
    "    encrypted_prediction = enviroment.server_send_encrypted_prediction_to_client()\n",
    "    decrypted_prediction = client_model.deserialize_decrypt_dequantize(encrypted_prediction)[0]\n",
    "    decrypted_predictions.append(decrypted_prediction)\n",
    "\n",
    "clear_prediction_classes = model_to_fhe.predict_proba(X_client).argmax(axis=1)\n",
    "decrypted_predictions_classes = numpy.array(decrypted_predictions).argmax(axis=1)\n",
    "accuracy = (clear_prediction_classes == decrypted_predictions_classes).mean()\n",
    "\n"
   ]
  },
  {
   "cell_type": "code",
   "execution_count": 7,
   "metadata": {},
   "outputs": [
    {
     "name": "stdout",
     "output_type": "stream",
     "text": [
      "Encrypted data is 1336.48 larger than data\n",
      "Execution time are [8.43, 7.82, 7.51, 7.66, 7.66, 7.84, 7.78, 8.27, 7.72, 316.8, 6.15, 5.7, 5.84, 6.1, 7.64, 8.22, 7.72, 7.53, 7.76, 7.87, 7.82, 10.25, 14.81, 14.46, 14.98, 15.57, 15.54, 14.52, 15.17, 14.55, 13.58, 14.72, 14.34, 14.65, 15.22, 15.54, 14.93, 14.46, 14.13, 14.47, 14.88, 15.8, 13.72, 13.6, 14.97, 15.08, 15.68, 15.27, 15.85, 16.16, 14.76, 14.56, 14.91, 15.25, 15.15, 15.66, 15.42, 16.32, 14.12, 14.64, 13.75, 14.55, 14.83, 14.78, 14.85, 14.84, 15.08, 13.68, 14.33, 14.75, 14.57, 14.51, 14.93, 14.56, 15.4, 15.26, 15.27, 14.55, 15.02, 14.41, 14.37, 14.32, 14.36, 14.69, 14.39, 14.65, 14.69, 15.17, 14.65, 14.85, 14.98, 14.75, 14.5, 14.36, 14.55, 14.0, 13.33, 14.51, 14.23, 14.81, 14.55, 13.74, 14.06, 13.82, 13.99, 13.57, 14.2, 13.77, 14.49, 14.63, 15.43, 14.91, 14.76, 14.62, 14.68, 15.32, 15.25, 14.75, 14.36, 15.21, 14.13, 14.24, 14.38, 14.02, 14.47, 14.45, 14.68, 14.2, 14.87, 14.24, 14.55, 14.06, 13.65, 14.69, 14.62, 15.18, 15.06, 14.81, 15.02, 14.79, 14.51, 14.6, 15.48, 14.71, 15.04, 14.72, 15.33, 14.92, 15.08, 15.21, 15.19, 15.72, 14.94, 15.33, 14.58, 14.22, 14.64, 15.08, 14.8, 14.24, 14.96, 14.58, 14.49, 14.44, 14.84, 14.22, 14.92, 14.82, 14.83, 14.75, 14.91, 14.7, 14.71, 15.41, 15.17, 14.64, 15.02, 13.56, 13.86, 13.2, 13.88, 14.29, 13.93, 14.04, 14.08, 13.95, 14.27, 14.72, 14.65, 14.61, 14.51, 14.5, 14.01, 15.06, 14.65, 14.87, 15.07, 15.24, 14.98, 14.78, 14.77, 14.66, 14.67, 14.85, 14.77, 15.19, 15.43, 15.3, 15.46, 15.07, 14.42, 14.77, 14.12, 15.0, 14.66, 14.74, 14.56, 14.92, 14.75, 14.76, 14.69, 15.13, 15.0, 14.78, 15.07, 14.59, 14.52, 15.09, 14.66, 14.78, 14.04, 14.21, 13.9, 13.57, 13.75, 13.81, 14.47, 14.01, 13.8, 13.9, 13.47, 14.58, 14.47, 14.81, 14.83, 15.25, 15.15, 14.51, 14.78, 15.13, 14.89, 14.91, 14.81, 14.89, 15.04, 15.31, 15.11, 15.27, 15.11, 15.38, 14.86, 15.71, 15.3, 14.82, 14.88, 15.01, 14.75, 14.82, 14.74, 14.44, 14.66, 14.69, 14.41, 15.14, 14.9, 14.76, 14.72, 14.12, 13.88, 15.02, 14.05, 13.64, 13.43, 13.74, 14.2, 13.55, 14.11, 13.7, 14.62, 13.58, 14.72, 14.4, 14.14, 14.79, 14.51, 15.39, 14.35, 15.47, 14.76, 15.26, 15.2, 14.39, 14.16, 15.07, 14.34, 15.34, 15.41, 15.02, 15.18, 14.86, 15.37, 15.06, 14.89, 15.25, 14.48, 15.45, 14.6, 14.71, 14.49, 14.95, 14.61, 14.5, 14.65, 14.45, 14.36, 14.35, 14.88, 14.83, 14.9, 14.76, 13.99, 14.87, 15.23, 14.31, 14.9, 14.58, 14.98, 14.58, 14.21, 14.98, 14.98, 14.68, 14.77, 14.74, 14.19, 13.98, 14.72, 14.55, 14.48, 14.2, 14.39, 14.22, 14.38, 14.27, 14.69, 14.09, 14.69, 14.6, 14.49, 13.78, 14.8, 14.3, 14.61, 13.98, 14.4, 14.41, 14.11, 14.24, 14.21, 14.77, 14.46, 14.7, 14.27, 15.35, 14.78, 14.88, 13.78, 13.56, 13.89, 13.94, 13.32, 13.77, 14.08, 14.04, 14.43, 14.38, 13.99, 13.91, 14.29, 14.41, 15.21, 14.96, 15.21, 15.71, 14.34, 14.97, 14.81, 15.24, 15.1, 14.42, 14.17, 13.17, 12.89, 13.59, 14.62, 14.14, 13.76, 14.15, 14.2, 14.34, 13.69, 14.3, 14.49, 14.98, 14.93, 14.52, 15.07, 15.0, 15.18, 15.11, 15.02, 15.0, 14.43, 14.59, 15.38, 15.02, 14.84, 14.38, 14.17, 14.52, 13.9, 14.11, 14.74, 14.87, 14.69, 14.93, 14.03, 13.91, 15.1, 14.01, 14.37, 13.86, 14.15, 13.25, 14.74, 14.75, 14.73, 14.76, 15.19, 14.97, 14.82, 14.84, 14.78, 15.13, 14.91, 15.01, 15.09, 14.93, 14.56, 14.82, 15.31, 15.51, 15.39, 15.5, 14.7, 14.94, 14.64, 14.87, 14.72, 14.41, 14.4, 15.1, 14.85, 15.28, 14.96, 15.03, 15.6, 14.49, 14.15, 14.29, 14.18, 13.47, 13.63, 14.49, 15.24, 14.9, 14.92, 14.61, 14.75, 14.55, 14.78, 14.8, 14.55, 15.4, 14.47, 14.34, 13.85, 13.47, 14.04, 14.69, 14.08, 14.26, 14.43, 15.01, 14.75, 14.94, 14.59, 14.5, 14.42, 14.72, 14.94, 14.43, 15.17, 14.68, 15.19, 14.46, 14.85, 15.69, 15.28, 14.33, 14.99, 14.56, 15.1, 14.89, 14.31, 14.79, 14.38, 15.09, 14.63, 14.62, 15.16, 14.5, 15.13, 14.5, 14.97, 14.49, 14.92, 15.24, 14.36, 13.75, 13.44, 14.15, 14.66, 14.11, 14.21, 14.84, 14.27, 14.76, 14.59, 14.01, 14.12, 14.47, 14.13, 14.52, 14.29, 14.46, 13.47, 14.36, 14.72, 14.42, 15.37, 15.4, 15.17, 14.93, 14.52, 15.03, 14.56, 14.87, 14.72], ie an average of 14.90 seconds\n",
      "Accuracy between FHE prediction and clear model is: 100%\n"
     ]
    }
   ],
   "source": [
    "# INTERESTING PRINTOUTS\n",
    "print(f\"Encrypted data is \"f\"{sys.getsizeof(input_after_encryption)/sys.getsizeof(buffor):.2f}\"\" larger than data\")\n",
    "print(f\"Execution time are {[numpy.round(e, 2) for e in time_exec]}, ie an average of \" f\"{numpy.mean(time_exec):.2f} seconds\")\n",
    "print(f\"Accuracy between FHE prediction and clear model is: {accuracy*100:.0f}%\")"
   ]
  }
 ],
 "metadata": {
  "execution": {
   "timeout": 10800
  },
  "kernelspec": {
   "display_name": "Python 3.9.15 ('.venv': venv)",
   "language": "python",
   "name": "python3"
  },
  "language_info": {
   "codemirror_mode": {
    "name": "ipython",
    "version": 3
   },
   "file_extension": ".py",
   "mimetype": "text/x-python",
   "name": "python",
   "nbconvert_exporter": "python",
   "pygments_lexer": "ipython3",
   "version": "3.9.15"
  },
  "vscode": {
   "interpreter": {
    "hash": "97cc4f82940a2f2a6542d8159ecfd93124bb34f6b07cd76ace459e4adf29cd16"
   }
  }
 },
 "nbformat": 4,
 "nbformat_minor": 2
}
