{
 "cells": [
  {
   "cell_type": "code",
   "execution_count": 2,
   "metadata": {},
   "outputs": [],
   "source": [
    "# IMPORTS\n",
    "\n",
    "import platform\n",
    "import sys\n",
    "import time\n",
    "from shutil import copyfile\n",
    "from tempfile import TemporaryDirectory\n",
    "\n",
    "import numpy\n",
    "from sklearn.datasets import load_breast_cancer\n",
    "\n",
    "from concrete.ml.deployment import FHEModelClient, FHEModelDev, FHEModelServer\n",
    "from concrete.ml.sklearn import XGBClassifier"
   ]
  },
  {
   "cell_type": "code",
   "execution_count": 3,
   "metadata": {},
   "outputs": [],
   "source": [
    "# ENVIROMENT CLASS\n",
    "\n",
    "class OnDiskenviroment:\n",
    "    def __init__(self):\n",
    "        self.server_dir = TemporaryDirectory()  \n",
    "        self.client_dir = TemporaryDirectory()\n",
    "        self.dev_dir = TemporaryDirectory()\n",
    "\n",
    "    def client_send_evaluation_key_to_server(self, serialized_evaluation_keys):\n",
    "        with open(self.server_dir.name + \"/serialized_evaluation_keys.ekl\", \"wb\") as f:\n",
    "            f.write(serialized_evaluation_keys)\n",
    "\n",
    "    def client_send_input_to_server_for_prediction(self, input_after_encryption):\n",
    "        with open(self.server_dir.name + \"/serialized_evaluation_keys.ekl\", \"rb\") as f:\n",
    "            serialized_evaluation_keys = f.read()\n",
    "        time_begin = time.time()\n",
    "        encrypted_prediction = FHEModelServer(self.server_dir.name).run(\n",
    "            input_after_encryption, serialized_evaluation_keys\n",
    "        )\n",
    "        time_end = time.time()\n",
    "        with open(self.server_dir.name + \"/encrypted_prediction.enc\", \"wb\") as f:\n",
    "            f.write(encrypted_prediction)\n",
    "        return time_end - time_begin\n",
    "\n",
    "    def dev_send_model_to_server(self):\n",
    "        copyfile(self.dev_dir.name + \"/server.zip\", self.server_dir.name + \"/server.zip\")\n",
    "\n",
    "    def server_send_encrypted_prediction_to_client(self):\n",
    "        with open(self.server_dir.name + \"/encrypted_prediction.enc\", \"rb\") as f:\n",
    "            encrypted_prediction = f.read()\n",
    "        return encrypted_prediction\n",
    "\n",
    "    def dev_send_clientspecs_and_modelspecs_to_client(self):\n",
    "        copyfile(self.dev_dir.name + \"/client.zip\", self.client_dir.name + \"/client.zip\")\n",
    "        copyfile(\n",
    "            self.dev_dir.name + \"/serialized_processing.json\",\n",
    "            self.client_dir.name + \"/serialized_processing.json\",\n",
    "        )\n",
    "\n",
    "    def cleanup(self):\n",
    "        self.server_dir.cleanup()\n",
    "        self.client_dir.cleanup()\n",
    "        self.dev_dir.cleanup()"
   ]
  },
  {
   "cell_type": "code",
   "execution_count": 4,
   "metadata": {},
   "outputs": [],
   "source": [
    "# MODEL PREPARATION TO FHE AND ENVIROMENT\n",
    "\n",
    "X, y = load_breast_cancer(return_X_y=True)\n",
    "\n",
    "X_model_owner, X_client = X, X\n",
    "y_model_owner, y_client = y, y\n",
    "\n",
    "n_estimators = 10\n",
    "\n",
    "model_to_fhe = XGBClassifier(n_bits=2, n_estimators=n_estimators, max_depth=3)\n",
    "model_to_fhe.fit(X_model_owner, y_model_owner)\n",
    "model_to_fhe.compile(X_model_owner)\n",
    "\n",
    "enviroment = OnDiskenviroment()\n",
    "\n",
    "fhemodel_to_fhe = FHEModelDev(enviroment.dev_dir.name, model_to_fhe)\n",
    "fhemodel_to_fhe.save()\n"
   ]
  },
  {
   "cell_type": "code",
   "execution_count": 5,
   "metadata": {},
   "outputs": [
    {
     "name": "stdout",
     "output_type": "stream",
     "text": [
      "total 60K\n",
      "-rw-rw-r-- 1 cybant cybant  464 lis 16 10:42 client.zip\n",
      "-rw-rw-r-- 1 cybant cybant  44K lis 16 10:42 serialized_processing.json\n",
      "-rw-rw-r-- 1 cybant cybant 8,3K lis 16 10:42 server.zip\n",
      "total 12K\n",
      "-rw-rw-r-- 1 cybant cybant 8,3K lis 16 10:42 server.zip\n",
      "total 48K\n",
      "-rw-rw-r-- 1 cybant cybant 464 lis 16 10:42 client.zip\n",
      "-rw-rw-r-- 1 cybant cybant 44K lis 16 10:42 serialized_processing.json\n"
     ]
    }
   ],
   "source": [
    "# SENDING APPROPRIATE DATA TO ENVIROMENT \n",
    "\n",
    "!ls -lh $enviroment.dev_dir.name\n",
    "enviroment.dev_send_model_to_server()\n",
    "!ls -lh $enviroment.server_dir.name\n",
    "enviroment.dev_send_clientspecs_and_modelspecs_to_client()\n",
    "!ls -lh $enviroment.client_dir.name"
   ]
  },
  {
   "cell_type": "code",
   "execution_count": 6,
   "metadata": {},
   "outputs": [
    {
     "name": "stderr",
     "output_type": "stream",
     "text": [
      "KeySetCache: miss, regenerating /tmp/tmpxtyf0l4c/7071120041192343400/0_0\n"
     ]
    },
    {
     "name": "stdout",
     "output_type": "stream",
     "text": [
      "Evaluation keys size: 119.88 MB\n"
     ]
    }
   ],
   "source": [
    "# CLIENT PREPERATION - KEYS\n",
    "\n",
    "client_model = FHEModelClient(enviroment.client_dir.name, key_dir=enviroment.client_dir.name)\n",
    "client_model.generate_private_and_evaluation_keys()\n",
    "\n",
    "serialized_evaluation_keys = client_model.get_serialized_evaluation_keys()\n",
    "\n",
    "print(f\"Evaluation keys size: {sys.getsizeof(serialized_evaluation_keys) / 1024 / 1024:.2f} MB\")\n",
    "enviroment.client_send_evaluation_key_to_server(serialized_evaluation_keys)"
   ]
  },
  {
   "cell_type": "code",
   "execution_count": 7,
   "metadata": {},
   "outputs": [
    {
     "name": "stdout",
     "output_type": "stream",
     "text": [
      "Step 0 done\n",
      "The history saving thread hit an unexpected error (OperationalError('database is locked')).History will not be written to the database.\n",
      "Step 20 done\n",
      "Step 40 done\n",
      "Step 60 done\n",
      "Step 80 done\n",
      "Step 100 done\n",
      "Step 120 done\n",
      "Step 140 done\n",
      "Step 160 done\n",
      "Step 180 done\n",
      "Step 200 done\n",
      "Step 220 done\n",
      "Step 240 done\n",
      "Step 260 done\n",
      "Step 280 done\n",
      "Step 300 done\n",
      "Step 320 done\n",
      "Step 340 done\n",
      "Step 360 done\n",
      "Step 380 done\n",
      "Step 400 done\n",
      "Step 420 done\n",
      "Step 440 done\n",
      "Step 460 done\n",
      "Step 480 done\n",
      "Step 500 done\n",
      "Step 520 done\n",
      "Step 540 done\n",
      "Step 560 done\n"
     ]
    }
   ],
   "source": [
    "# MAIN LOOP WHICH ENRYPT DATA AND MAKE STATISTICS\n",
    "\n",
    "decrypted_predictions = []\n",
    "time_exec = []\n",
    "for i in range(X_client.shape[0]):\n",
    "    if i % 20 == 0:\n",
    "        print(\"Step \" + str(i)  + \" done\")\n",
    "    buffor = X_client[[i], :]\n",
    "    input_after_encryption = client_model.quantize_encrypt_serialize(buffor)\n",
    "    time_exec += [enviroment.client_send_input_to_server_for_prediction(input_after_encryption)]\n",
    "    encrypted_prediction = enviroment.server_send_encrypted_prediction_to_client()\n",
    "    decrypted_prediction = client_model.deserialize_decrypt_dequantize(encrypted_prediction)[0]\n",
    "    decrypted_predictions.append(decrypted_prediction)\n",
    "\n",
    "clear_prediction_classes = model_to_fhe.predict_proba(X_client).argmax(axis=1)\n",
    "decrypted_predictions_classes = numpy.array(decrypted_predictions).argmax(axis=1)\n",
    "accuracy = (clear_prediction_classes == decrypted_predictions_classes).mean()\n",
    "\n"
   ]
  },
  {
   "cell_type": "code",
   "execution_count": 8,
   "metadata": {},
   "outputs": [
    {
     "name": "stdout",
     "output_type": "stream",
     "text": [
      "Encrypted data is 1336.48 larger than data\n",
      "Execution time are [14.21, 15.01, 13.82, 14.85, 14.66, 14.28, 15.01, 13.78, 16.2, 14.65, 14.06, 14.31, 15.06, 15.18, 14.52, 14.94, 15.27, 15.19, 14.51, 14.43, 15.84, 15.62, 15.36, 15.33, 15.01, 13.86, 13.92, 13.88, 15.11, 14.72, 14.62, 14.61, 13.97, 14.31, 13.98, 14.71, 15.49, 14.7, 14.44, 14.75, 14.33, 14.19, 13.88, 14.7, 14.37, 14.21, 14.98, 13.96, 13.6, 14.73, 14.69, 14.71, 14.83, 14.02, 15.25, 14.93, 15.41, 14.81, 15.42, 14.48, 15.01, 14.54, 14.13, 14.62, 14.17, 14.47, 14.49, 15.11, 14.61, 15.1, 14.7, 15.01, 14.5, 15.1, 15.13, 14.58, 14.54, 14.49, 14.73, 14.88, 14.86, 14.94, 15.06, 15.42, 15.35, 15.02, 14.98, 15.07, 15.36, 14.54, 14.52, 14.76, 14.02, 13.83, 13.15, 13.75, 14.92, 13.74, 14.95, 15.11, 14.56, 14.84, 14.87, 15.03, 14.35, 14.11, 14.72, 14.3, 15.12, 14.62, 15.62, 14.9, 15.02, 15.09, 14.35, 14.99, 14.77, 14.5, 14.46, 14.55, 14.53, 13.8, 13.71, 14.35, 13.67, 13.98, 14.21, 14.4, 13.69, 14.02, 14.01, 14.32, 15.09, 14.91, 14.6, 15.19, 14.66, 14.63, 14.99, 14.77, 15.07, 14.49, 14.19, 14.42, 14.77, 14.59, 14.9, 13.99, 15.31, 14.91, 14.12, 14.74, 14.93, 15.45, 15.03, 15.06, 15.59, 14.82, 15.4, 15.28, 15.36, 14.87, 15.37, 13.98, 14.36, 14.46, 14.39, 14.83, 14.94, 14.84, 14.75, 14.71, 14.33, 14.01, 14.13, 14.26, 14.33, 14.68, 14.74, 14.62, 14.65, 14.62, 14.19, 14.72, 13.97, 14.34, 14.25, 14.19, 13.77, 14.87, 14.65, 14.89, 14.44, 14.26, 14.35, 13.87, 14.83, 14.21, 14.92, 14.85, 14.78, 15.23, 14.99, 15.09, 15.08, 14.48, 15.05, 14.84, 15.32, 15.28, 14.58, 14.87, 15.31, 15.02, 15.19, 14.44, 14.92, 14.99, 15.01, 15.45, 15.29, 14.93, 14.38, 14.95, 14.24, 14.45, 14.6, 13.57, 13.5, 14.45, 14.0, 14.26, 13.16, 14.05, 13.09, 13.71, 14.32, 14.86, 15.34, 14.72, 15.09, 14.87, 14.83, 14.87, 14.92, 15.43, 15.04, 15.37, 14.97, 14.92, 14.27, 15.0, 14.49, 14.7, 15.16, 15.14, 15.17, 14.97, 13.94, 15.08, 14.89, 15.36, 14.34, 15.1, 15.17, 14.93, 15.59, 14.7, 14.54, 14.87, 14.9, 14.53, 14.1, 13.83, 13.94, 14.25, 13.98, 13.83, 14.07, 13.72, 14.64, 14.21, 14.22, 13.96, 13.52, 13.43, 14.18, 14.4, 14.96, 15.3, 15.38, 15.06, 14.93, 14.6, 14.25, 14.44, 14.2, 14.75, 14.19, 14.84, 14.64, 14.54, 14.73, 14.79, 14.79, 14.72, 14.81, 14.52, 14.48, 15.14, 14.74, 15.0, 14.0, 13.59, 14.4, 14.85, 14.55, 14.22, 13.71, 13.95, 14.22, 14.0, 14.64, 14.7, 14.43, 14.03, 14.51, 14.85, 15.0, 14.39, 15.25, 14.41, 14.82, 15.24, 14.75, 14.35, 14.47, 14.39, 14.76, 14.57, 14.55, 14.3, 14.38, 14.76, 14.34, 14.84, 14.96, 15.59, 15.0, 15.3, 13.91, 14.73, 14.4, 14.98, 14.94, 15.35, 14.63, 14.83, 15.52, 15.55, 14.32, 14.83, 14.29, 14.3, 15.23, 14.98, 14.53, 14.75, 13.57, 13.3, 13.88, 13.49, 13.71, 14.38, 14.16, 13.8, 12.95, 14.61, 15.09, 14.89, 15.94, 15.52, 14.78, 14.49, 14.83, 15.05, 14.63, 14.48, 14.97, 15.4, 15.02, 15.24, 14.22, 15.2, 15.14, 15.03, 14.62, 14.05, 14.29, 14.23, 14.63, 14.59, 13.52, 14.53, 13.92, 15.17, 14.7, 14.47, 14.03, 15.08, 13.96, 14.5, 14.19, 14.6, 14.27, 14.49, 14.86, 14.77, 14.73, 14.4, 14.71, 15.2, 15.56, 14.94, 14.68, 14.98, 14.97, 14.91, 14.89, 14.44, 14.83, 14.98, 14.9, 14.9, 14.79, 14.9, 15.83, 14.78, 14.42, 14.88, 14.0, 12.95, 13.99, 13.59, 14.0, 13.87, 14.34, 14.9, 14.19, 14.4, 14.51, 14.19, 14.18, 13.91, 14.19, 13.93, 15.08, 15.25, 14.38, 15.12, 15.35, 15.59, 15.18, 14.57, 14.71, 14.34, 14.93, 14.31, 14.28, 13.66, 13.8, 14.45, 13.61, 14.42, 14.52, 15.13, 14.5, 14.26, 14.3, 14.72, 14.56, 14.24, 13.58, 14.95, 14.05, 13.84, 14.24, 14.4, 14.18, 14.92, 14.84, 13.95, 14.86, 14.97, 15.02, 14.35, 14.71, 14.69, 13.61, 13.82, 13.57, 13.7, 13.82, 14.29, 14.52, 14.04, 15.09, 14.52, 14.63, 14.2, 14.57, 13.94, 14.16, 14.16, 13.73, 14.37, 14.08, 13.8, 14.72, 15.48, 14.92, 14.56, 14.57, 15.19, 15.07, 14.95, 14.74, 15.07, 15.84, 15.05, 14.66, 15.28, 14.34, 14.52, 14.66, 15.08, 14.85, 15.02, 14.75, 14.61, 15.51, 14.21, 14.08, 13.66, 14.47, 14.22, 14.2, 13.38, 11.32, 9.15, 9.31, 9.75, 9.27, 9.68, 9.62, 9.46, 9.59, 9.5, 9.19, 9.23, 9.58, 9.39, 9.38, 8.92, 9.31, 8.97, 9.6, 9.55, 9.63], ie an average of 14.41 seconds\n",
      "Accuracy between FHE prediction and clear model is: 100%\n"
     ]
    }
   ],
   "source": [
    "# INTERESTING PRINTOUTS\n",
    "print(f\"Encrypted data is \"f\"{sys.getsizeof(input_after_encryption)/sys.getsizeof(buffor):.2f}\"\" larger than data\")\n",
    "print(f\"Execution time are {[numpy.round(e, 2) for e in time_exec]}, ie an average of \" f\"{numpy.mean(time_exec):.2f} seconds\")\n",
    "print(f\"Accuracy between FHE prediction and clear model is: {accuracy*100:.0f}%\")"
   ]
  }
 ],
 "metadata": {
  "execution": {
   "timeout": 10800
  },
  "kernelspec": {
   "display_name": "Python 3.9.15 ('.venv': venv)",
   "language": "python",
   "name": "python3"
  },
  "language_info": {
   "codemirror_mode": {
    "name": "ipython",
    "version": 3
   },
   "file_extension": ".py",
   "mimetype": "text/x-python",
   "name": "python",
   "nbconvert_exporter": "python",
   "pygments_lexer": "ipython3",
   "version": "3.9.15"
  },
  "vscode": {
   "interpreter": {
    "hash": "97cc4f82940a2f2a6542d8159ecfd93124bb34f6b07cd76ace459e4adf29cd16"
   }
  }
 },
 "nbformat": 4,
 "nbformat_minor": 2
}
