{
 "cells": [
  {
   "cell_type": "code",
   "execution_count": 1,
   "metadata": {},
   "outputs": [],
   "source": [
    "# IMPORTS\n",
    "\n",
    "import platform\n",
    "import sys\n",
    "import time\n",
    "from shutil import copyfile\n",
    "from tempfile import TemporaryDirectory\n",
    "\n",
    "import numpy\n",
    "from sklearn.datasets import load_breast_cancer\n",
    "\n",
    "from concrete.ml.deployment import FHEModelClient, FHEModelDev, FHEModelServer\n",
    "from concrete.ml.sklearn import XGBClassifier"
   ]
  },
  {
   "cell_type": "code",
   "execution_count": 2,
   "metadata": {},
   "outputs": [],
   "source": [
    "# ENVIROMENT CLASS\n",
    "\n",
    "class OnDiskenviroment:\n",
    "    def __init__(self):\n",
    "        self.server_dir = TemporaryDirectory()  \n",
    "        self.client_dir = TemporaryDirectory()\n",
    "        self.dev_dir = TemporaryDirectory()\n",
    "\n",
    "    def client_send_evaluation_key_to_server(self, serialized_evaluation_keys):\n",
    "        with open(self.server_dir.name + \"/serialized_evaluation_keys.ekl\", \"wb\") as f:\n",
    "            f.write(serialized_evaluation_keys)\n",
    "\n",
    "    def client_send_input_to_server_for_prediction(self, input_after_encryption):\n",
    "        with open(self.server_dir.name + \"/serialized_evaluation_keys.ekl\", \"rb\") as f:\n",
    "            serialized_evaluation_keys = f.read()\n",
    "        time_begin = time.time()\n",
    "        encrypted_prediction = FHEModelServer(self.server_dir.name).run(\n",
    "            input_after_encryption, serialized_evaluation_keys\n",
    "        )\n",
    "        time_end = time.time()\n",
    "        with open(self.server_dir.name + \"/encrypted_prediction.enc\", \"wb\") as f:\n",
    "            f.write(encrypted_prediction)\n",
    "        return time_end - time_begin\n",
    "\n",
    "    def dev_send_model_to_server(self):\n",
    "        copyfile(self.dev_dir.name + \"/server.zip\", self.server_dir.name + \"/server.zip\")\n",
    "\n",
    "    def server_send_encrypted_prediction_to_client(self):\n",
    "        with open(self.server_dir.name + \"/encrypted_prediction.enc\", \"rb\") as f:\n",
    "            encrypted_prediction = f.read()\n",
    "        return encrypted_prediction\n",
    "\n",
    "    def dev_send_clientspecs_and_modelspecs_to_client(self):\n",
    "        copyfile(self.dev_dir.name + \"/client.zip\", self.client_dir.name + \"/client.zip\")\n",
    "        copyfile(\n",
    "            self.dev_dir.name + \"/serialized_processing.json\",\n",
    "            self.client_dir.name + \"/serialized_processing.json\",\n",
    "        )\n",
    "\n",
    "    def cleanup(self):\n",
    "        self.server_dir.cleanup()\n",
    "        self.client_dir.cleanup()\n",
    "        self.dev_dir.cleanup()"
   ]
  },
  {
   "cell_type": "code",
   "execution_count": 3,
   "metadata": {},
   "outputs": [],
   "source": [
    "# MODEL PREPARATION TO FHE AND ENVIROMENT\n",
    "\n",
    "X, y = load_breast_cancer(return_X_y=True)\n",
    "\n",
    "X_model_owner, X_client = X, X\n",
    "y_model_owner, y_client = y, y\n",
    "\n",
    "n_estimators = 10\n",
    "\n",
    "model_to_fhe = XGBClassifier(n_bits=2, n_estimators=n_estimators, max_depth=3)\n",
    "model_to_fhe.fit(X_model_owner, y_model_owner)\n",
    "model_to_fhe.compile(X_model_owner)\n",
    "\n",
    "enviroment = OnDiskenviroment()\n",
    "\n",
    "fhemodel_to_fhe = FHEModelDev(enviroment.dev_dir.name, model_to_fhe)\n",
    "fhemodel_to_fhe.save()\n"
   ]
  },
  {
   "cell_type": "code",
   "execution_count": 4,
   "metadata": {},
   "outputs": [
    {
     "name": "stdout",
     "output_type": "stream",
     "text": [
      "total 60K\n",
      "-rw-rw-r-- 1 cybant cybant  464 lis 15 23:02 client.zip\n",
      "-rw-rw-r-- 1 cybant cybant  44K lis 15 23:02 serialized_processing.json\n",
      "-rw-rw-r-- 1 cybant cybant 8,3K lis 15 23:02 server.zip\n",
      "total 12K\n",
      "-rw-rw-r-- 1 cybant cybant 8,3K lis 15 23:03 server.zip\n",
      "total 48K\n",
      "-rw-rw-r-- 1 cybant cybant 464 lis 15 23:03 client.zip\n",
      "-rw-rw-r-- 1 cybant cybant 44K lis 15 23:03 serialized_processing.json\n"
     ]
    }
   ],
   "source": [
    "# SENDING APPROPRIATE DATA TO ENVIROMENT \n",
    "\n",
    "!ls -lh $enviroment.dev_dir.name\n",
    "enviroment.dev_send_model_to_server()\n",
    "!ls -lh $enviroment.server_dir.name\n",
    "enviroment.dev_send_clientspecs_and_modelspecs_to_client()\n",
    "!ls -lh $enviroment.client_dir.name"
   ]
  },
  {
   "cell_type": "code",
   "execution_count": 5,
   "metadata": {},
   "outputs": [
    {
     "name": "stdout",
     "output_type": "stream",
     "text": [
      "Evaluation keys size: 119.88 MB\n"
     ]
    },
    {
     "name": "stderr",
     "output_type": "stream",
     "text": [
      "KeySetCache: miss, regenerating /tmp/tmpaidg6p5l/7071120041192343400/0_0\n"
     ]
    }
   ],
   "source": [
    "# CLIENT PREPERATION - KEYS\n",
    "\n",
    "client_model = FHEModelClient(enviroment.client_dir.name, key_dir=enviroment.client_dir.name)\n",
    "client_model.generate_private_and_evaluation_keys()\n",
    "\n",
    "serialized_evaluation_keys = client_model.get_serialized_evaluation_keys()\n",
    "\n",
    "print(f\"Evaluation keys size: {sys.getsizeof(serialized_evaluation_keys) / 1024 / 1024:.2f} MB\")\n",
    "enviroment.client_send_evaluation_key_to_server(serialized_evaluation_keys)"
   ]
  },
  {
   "cell_type": "code",
   "execution_count": 6,
   "metadata": {},
   "outputs": [
    {
     "name": "stdout",
     "output_type": "stream",
     "text": [
      "Step 0 done\n",
      "Step 20 done\n",
      "Step 40 done\n",
      "Step 60 done\n",
      "Step 80 done\n",
      "Step 100 done\n",
      "Step 120 done\n",
      "Step 140 done\n",
      "Step 160 done\n",
      "Step 180 done\n",
      "Step 200 done\n",
      "Step 220 done\n",
      "Step 240 done\n",
      "Step 260 done\n",
      "Step 280 done\n",
      "Step 300 done\n",
      "Step 320 done\n",
      "Step 340 done\n",
      "Step 360 done\n",
      "Step 380 done\n",
      "Step 400 done\n",
      "Step 420 done\n",
      "Step 440 done\n",
      "Step 460 done\n",
      "Step 480 done\n",
      "Step 500 done\n",
      "Step 520 done\n",
      "Step 540 done\n",
      "Step 560 done\n"
     ]
    }
   ],
   "source": [
    "# MAIN LOOP WHICH ENRYPT DATA AND MAKE STATISTICS\n",
    "\n",
    "decrypted_predictions = []\n",
    "time_exec = []\n",
    "for i in range(X_client.shape[0]):\n",
    "    if i % 20 == 0:\n",
    "        print(\"Step \" + str(i) + \" done\")\n",
    "    buffor = X_client[[i], :]\n",
    "    input_after_encryption = client_model.quantize_encrypt_serialize(buffor)\n",
    "    time_exec += [enviroment.client_send_input_to_server_for_prediction(input_after_encryption)]\n",
    "    encrypted_prediction = enviroment.server_send_encrypted_prediction_to_client()\n",
    "    decrypted_prediction = client_model.deserialize_decrypt_dequantize(encrypted_prediction)[0]\n",
    "    decrypted_predictions.append(decrypted_prediction)\n",
    "\n",
    "clear_prediction_classes = model_to_fhe.predict_proba(X_client).argmax(axis=1)\n",
    "decrypted_predictions_classes = numpy.array(decrypted_predictions).argmax(axis=1)\n",
    "accuracy = (clear_prediction_classes == decrypted_predictions_classes).mean()\n",
    "\n"
   ]
  },
  {
   "cell_type": "code",
   "execution_count": 7,
   "metadata": {},
   "outputs": [
    {
     "name": "stdout",
     "output_type": "stream",
     "text": [
      "Encrypted data is 1336.48 larger than data\n",
      "Execution time are [5.24, 4.4, 4.2, 5.1, 5.77, 5.39, 5.24, 5.19, 5.07, 5.1, 5.03, 5.1, 5.16, 5.02, 5.08, 5.0, 5.08, 5.0, 5.1, 5.03, 5.07, 4.99, 5.1, 5.05, 5.0, 5.05, 5.37, 5.77, 5.01, 5.02, 5.01, 5.01, 4.99, 5.03, 4.97, 4.97, 4.97, 4.99, 5.01, 4.99, 4.98, 4.98, 4.98, 4.98, 5.0, 5.0, 4.99, 4.97, 4.98, 5.17, 5.42, 5.22, 6.76, 5.89, 5.69, 6.93, 6.2, 5.58, 6.85, 8.03, 6.48, 7.97, 8.52, 6.29, 6.26, 6.13, 5.8, 5.92, 6.39, 5.73, 5.67, 5.71, 7.21, 6.08, 5.94, 5.91, 6.35, 5.69, 5.88, 5.85, 5.93, 5.92, 5.58, 5.5, 5.49, 5.54, 5.51, 5.45, 5.46, 5.49, 5.47, 5.5, 5.48, 5.52, 5.5, 5.52, 5.37, 5.46, 5.48, 5.38, 5.49, 5.72, 5.54, 5.37, 5.4, 5.39, 5.46, 5.52, 5.55, 5.51, 5.47, 5.4, 5.39, 5.35, 5.39, 5.55, 5.43, 5.44, 5.43, 5.41, 5.52, 5.76, 5.51, 5.51, 5.49, 5.51, 5.46, 5.47, 5.4, 5.68, 5.54, 5.47, 5.44, 5.59, 5.42, 5.52, 5.48, 5.39, 5.43, 5.42, 5.68, 5.57, 5.36, 5.27, 5.35, 5.49, 5.36, 5.32, 5.31, 5.25, 5.38, 5.24, 5.26, 5.16, 5.31, 5.19, 5.15, 5.34, 5.35, 5.27, 5.32, 5.43, 5.23, 5.25, 5.37, 5.29, 5.19, 11.43, 8.71, 5.64, 4.42, 4.84, 5.25, 5.28, 5.36, 5.31, 5.25, 5.32, 5.31, 5.28, 5.31, 5.35, 5.24, 5.29, 5.18, 5.27, 5.29, 5.27, 5.32, 5.2, 5.22, 5.2, 5.17, 5.11, 5.29, 5.39, 5.26, 5.29, 5.28, 5.25, 5.28, 5.49, 5.18, 5.28, 5.26, 5.19, 5.17, 5.17, 5.32, 5.34, 5.35, 5.34, 5.16, 5.19, 5.2, 5.14, 5.32, 5.25, 5.2, 5.25, 5.5, 5.28, 5.17, 5.16, 5.25, 5.27, 5.35, 5.2, 5.19, 6.33, 5.69, 5.36, 7.02, 6.39, 5.48, 5.4, 5.39, 5.37, 5.47, 5.44, 5.48, 5.64, 5.41, 5.36, 5.4, 5.31, 5.37, 5.39, 6.05, 6.17, 5.74, 5.69, 5.81, 5.48, 5.79, 5.53, 5.68, 5.63, 6.99, 5.97, 5.63, 5.87, 5.92, 5.4, 5.71, 5.6, 5.89, 5.47, 5.55, 5.75, 5.45, 5.55, 5.28, 5.35, 5.37, 5.32, 5.36, 5.41, 5.27, 5.41, 5.34, 5.79, 5.33, 5.44, 5.32, 5.42, 5.39, 5.58, 5.45, 5.49, 5.33, 5.39, 5.31, 5.45, 5.29, 5.36, 5.46, 6.35, 6.0, 6.83, 6.39, 6.69, 6.72, 5.95, 6.85, 6.1, 6.51, 6.81, 7.21, 6.49, 6.7, 6.46, 6.27, 6.51, 7.22, 6.72, 6.58, 6.77, 6.62, 6.75, 6.54, 6.7, 6.66, 6.56, 6.82, 6.91, 7.36, 6.61, 6.39, 6.69, 6.09, 6.43, 7.38, 6.53, 6.65, 6.82, 6.23, 6.03, 6.14, 6.53, 6.22, 6.87, 6.71, 6.26, 6.32, 6.19, 5.89, 5.8, 6.13, 5.89, 5.86, 5.91, 6.1, 5.91, 5.96, 5.82, 6.09, 6.58, 5.67, 5.79, 6.05, 6.26, 6.78, 7.66, 6.74, 6.36, 5.96, 6.19, 6.2, 6.87, 6.27, 5.59, 5.98, 6.03, 6.76, 7.93, 5.72, 7.51, 5.35, 5.15, 5.45, 5.47, 5.44, 5.41, 5.31, 5.85, 5.48, 5.73, 5.51, 6.16, 5.81, 6.42, 7.13, 6.4, 5.91, 5.3, 5.25, 5.25, 5.4, 5.38, 5.43, 5.48, 5.48, 5.2, 5.22, 5.25, 5.41, 5.31, 5.33, 5.35, 5.29, 5.39, 5.45, 5.38, 5.21, 5.35, 5.32, 5.36, 5.22, 5.25, 5.26, 5.42, 5.45, 5.94, 6.08, 5.75, 5.28, 5.33, 5.35, 5.36, 5.4, 5.26, 5.4, 6.13, 11.81, 8.09, 8.52, 7.92, 7.47, 7.33, 7.3, 7.24, 7.34, 7.23, 7.21, 7.35, 7.1, 7.23, 7.27, 7.29, 7.33, 7.24, 7.31, 7.31, 7.25, 7.33, 7.24, 7.21, 7.3, 7.36, 7.32, 7.42, 7.25, 7.29, 7.19, 7.32, 7.25, 7.44, 7.23, 7.32, 7.23, 7.38, 7.36, 7.32, 7.38, 7.64, 9.22, 10.49, 9.75, 9.22, 9.62, 8.68, 8.76, 9.11, 8.95, 9.07, 8.98, 8.95, 10.63, 12.12, 12.05, 11.89, 11.84, 10.52, 10.87, 10.87, 12.19, 11.21, 11.29, 12.44, 11.56, 10.58, 10.5, 10.86, 10.36, 10.61, 10.91, 11.42, 11.32, 11.04, 11.05, 10.71, 10.75, 10.49, 10.65, 11.24, 11.48, 11.58, 10.48, 11.14, 10.4, 11.94, 11.16, 10.79, 11.09, 10.77, 10.47, 10.7, 10.98, 11.01, 11.0, 10.8, 10.57, 11.57, 11.22, 12.13, 11.2, 10.59, 10.75, 11.27, 12.67, 13.58, 14.19, 15.06, 13.95, 13.45, 11.1, 11.72, 11.44, 10.91, 11.16, 10.82, 10.73, 11.45, 11.43, 11.03, 11.53, 10.61, 12.69, 10.65, 11.56, 10.87, 11.22, 10.92, 11.13, 10.94, 10.92, 10.97, 10.89], ie an average of 6.68 seconds\n",
      "Accuracy between FHE prediction and clear model is: 100%\n"
     ]
    }
   ],
   "source": [
    "# INTERESTING PRINTOUTS\n",
    "print(f\"Encrypted data is \"f\"{sys.getsizeof(input_after_encryption)/sys.getsizeof(buffor):.2f}\"\" larger than data\")\n",
    "print(f\"Execution time are {[numpy.round(e, 2) for e in time_exec]}, ie an average of \" f\"{numpy.mean(time_exec):.2f} seconds\")\n",
    "print(f\"Accuracy between FHE prediction and clear model is: {accuracy*100:.0f}%\")"
   ]
  }
 ],
 "metadata": {
  "execution": {
   "timeout": 10800
  },
  "kernelspec": {
   "display_name": "Python 3.9.15 ('.venv': venv)",
   "language": "python",
   "name": "python3"
  },
  "language_info": {
   "codemirror_mode": {
    "name": "ipython",
    "version": 3
   },
   "file_extension": ".py",
   "mimetype": "text/x-python",
   "name": "python",
   "nbconvert_exporter": "python",
   "pygments_lexer": "ipython3",
   "version": "3.9.15"
  },
  "vscode": {
   "interpreter": {
    "hash": "97cc4f82940a2f2a6542d8159ecfd93124bb34f6b07cd76ace459e4adf29cd16"
   }
  }
 },
 "nbformat": 4,
 "nbformat_minor": 2
}
