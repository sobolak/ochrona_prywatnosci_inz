{
  "cells": [
    {
      "cell_type": "markdown",
      "metadata": {
        "id": "nHUlZ0yEr_1w"
      },
      "source": [
        "# Prywatność różnicowa i uczenie federcyjne MINST\n",
        "\n"
      ]
    },
    {
      "cell_type": "markdown",
      "metadata": {
        "id": "969kwf7vwTKO"
      },
      "source": [
        "## Przygotowanie środowiska\n"
      ]
    },
    {
      "cell_type": "code",
      "execution_count": 1,
      "metadata": {
        "colab": {
          "base_uri": "https://localhost:8080/"
        },
        "id": "15EdvhNFG7m0",
        "outputId": "de221d58-d91a-4776-d2df-8d305f7b35df"
      },
      "outputs": [
        {
          "output_type": "stream",
          "name": "stdout",
          "text": [
            "\u001b[K     |████████████████████████████████| 821 kB 4.3 MB/s \n",
            "\u001b[K     |████████████████████████████████| 543.5 MB 12 kB/s \n",
            "\u001b[K     |████████████████████████████████| 121 kB 50.3 MB/s \n",
            "\u001b[K     |████████████████████████████████| 251 kB 70.6 MB/s \n",
            "\u001b[K     |████████████████████████████████| 126 kB 77.0 MB/s \n",
            "\u001b[K     |████████████████████████████████| 65.1 MB 1.5 MB/s \n",
            "\u001b[K     |████████████████████████████████| 45 kB 2.4 MB/s \n",
            "\u001b[K     |████████████████████████████████| 238 kB 50.9 MB/s \n",
            "\u001b[K     |████████████████████████████████| 4.2 MB 41.9 MB/s \n",
            "\u001b[K     |████████████████████████████████| 53 kB 2.0 MB/s \n",
            "\u001b[K     |████████████████████████████████| 887 kB 52.5 MB/s \n",
            "\u001b[K     |████████████████████████████████| 6.0 MB 27.5 MB/s \n",
            "\u001b[K     |████████████████████████████████| 1.7 MB 59.7 MB/s \n",
            "\u001b[K     |████████████████████████████████| 439 kB 74.2 MB/s \n",
            "\u001b[?25h  Building wheel for jax (setup.py) ... \u001b[?25l\u001b[?25hdone\n",
            "\u001b[31mERROR: pip's dependency resolver does not currently take into account all the packages that are installed. This behaviour is the source of the following dependency conflicts.\n",
            "tensorflow 2.9.2 requires flatbuffers<2,>=1.12, but you have flatbuffers 2.0.7 which is incompatible.\n",
            "spacy 3.4.2 requires tqdm<5.0.0,>=4.38.0, but you have tqdm 4.28.1 which is incompatible.\n",
            "pymc 4.1.4 requires cachetools>=4.2.1, but you have cachetools 3.1.1 which is incompatible.\n",
            "prophet 1.1.1 requires tqdm>=4.36.1, but you have tqdm 4.28.1 which is incompatible.\n",
            "panel 0.12.1 requires tqdm>=4.48.0, but you have tqdm 4.28.1 which is incompatible.\u001b[0m\n"
          ]
        }
      ],
      "source": [
        "!pip install --quiet --upgrade tensorflow-federated-nightly\n",
        "!pip install --quiet --upgrade nest-asyncio\n",
        "!pip install --quiet --upgrade tb-nightly  \n",
        "\n",
        "import nest_asyncio\n",
        "import collections\n",
        "import numpy as np\n",
        "import pandas as pd\n",
        "import tensorflow as tf\n",
        "import tensorflow_federated as tff\n",
        "import tensorflow_privacy as tfp\n",
        "from matplotlib import pyplot as plt"
      ]
    },
    {
      "cell_type": "code",
      "execution_count": 2,
      "metadata": {
        "colab": {
          "base_uri": "https://localhost:8080/"
        },
        "id": "ulJMVyrnvi3K",
        "outputId": "97fc39c7-ca74-4919-a823-6d3866e63ceb"
      },
      "outputs": [
        {
          "output_type": "execute_result",
          "data": {
            "text/plain": [
              "b'Federated learning + differential privacy'"
            ]
          },
          "metadata": {},
          "execution_count": 2
        }
      ],
      "source": [
        "nest_asyncio.apply()\n",
        "\n",
        "@tff.federated_computation\n",
        "def start():\n",
        "  return 'Federated learning + differential privacy'\n",
        "\n",
        "start()"
      ]
    },
    {
      "cell_type": "markdown",
      "metadata": {
        "id": "-6XKpVvFwdhg"
      },
      "source": [
        "## Przygotowanie danych"
      ]
    },
    {
      "cell_type": "code",
      "execution_count": 3,
      "metadata": {
        "colab": {
          "base_uri": "https://localhost:8080/"
        },
        "id": "Wp33MLcNwdzQ",
        "outputId": "f1aa4758-f2e4-4c22-8e47-d8fd8bf2a768"
      },
      "outputs": [
        {
          "output_type": "stream",
          "name": "stderr",
          "text": [
            "Downloading emnist_all.sqlite.lzma: 100%|██████████| 170507172/170507172 [00:32<00:00, 4640346.42it/s]\n"
          ]
        }
      ],
      "source": [
        "train, test = tff.simulation.datasets.emnist.load_data(\n",
        "      only_digits=True)"
      ]
    },
    {
      "cell_type": "code",
      "execution_count": 4,
      "metadata": {
        "colab": {
          "base_uri": "https://localhost:8080/"
        },
        "id": "azu3UymnweB6",
        "outputId": "19480eca-0f07-4a7a-a04e-07a0e80a5248"
      },
      "outputs": [
        {
          "output_type": "stream",
          "name": "stdout",
          "text": [
            "Typ struktury\n"
          ]
        },
        {
          "output_type": "execute_result",
          "data": {
            "text/plain": [
              "OrderedDict([('label', TensorSpec(shape=(), dtype=tf.int32, name=None)),\n",
              "             ('pixels',\n",
              "              TensorSpec(shape=(28, 28), dtype=tf.float32, name=None))])"
            ]
          },
          "metadata": {},
          "execution_count": 4
        }
      ],
      "source": [
        "print(\"Typ struktury\") \n",
        "train.element_type_structure"
      ]
    },
    {
      "cell_type": "code",
      "execution_count": 5,
      "metadata": {
        "colab": {
          "base_uri": "https://localhost:8080/"
        },
        "id": "muvrZx7N02G7",
        "outputId": "a898f53a-4494-48cd-c0bd-ff9c24655b71"
      },
      "outputs": [
        {
          "output_type": "stream",
          "name": "stdout",
          "text": [
            "Liczba użytkowników w zbiorze treningowym\n"
          ]
        },
        {
          "output_type": "execute_result",
          "data": {
            "text/plain": [
              "3383"
            ]
          },
          "metadata": {},
          "execution_count": 5
        }
      ],
      "source": [
        "print(\"Liczba użytkowników w zbiorze treningowym\") \n",
        "len(train.client_ids)"
      ]
    },
    {
      "cell_type": "code",
      "execution_count": 6,
      "metadata": {
        "colab": {
          "base_uri": "https://localhost:8080/"
        },
        "id": "VXj72SSw02Jh",
        "outputId": "138c8838-aac5-4f34-ecb0-9adc6c801d02"
      },
      "outputs": [
        {
          "output_type": "stream",
          "name": "stdout",
          "text": [
            "Liczba użytkowników w zbiorze treningowym\n"
          ]
        },
        {
          "output_type": "execute_result",
          "data": {
            "text/plain": [
              "3383"
            ]
          },
          "metadata": {},
          "execution_count": 6
        }
      ],
      "source": [
        "print(\"Liczba użytkowników w zbiorze treningowym\") \n",
        "len(test.client_ids)"
      ]
    },
    {
      "cell_type": "code",
      "execution_count": 7,
      "metadata": {
        "colab": {
          "base_uri": "https://localhost:8080/",
          "height": 479
        },
        "id": "MqED-GcGweOc",
        "outputId": "d9709484-b25b-4ae2-bd8b-75f0f54a19fe"
      },
      "outputs": [
        {
          "output_type": "display_data",
          "data": {
            "text/plain": [
              "<Figure size 864x504 with 20 Axes>"
            ],
            "image/png": "[encoded data removed]"
          },
          "metadata": {
            "needs_background": "light"
          }
        }
      ],
      "source": [
        "figure_1 = plt.figure(figsize=(12, 7))\n",
        "figure_1.suptitle('Ilość danych pewnego rodzaju dla serwera')\n",
        "for i in range(20):\n",
        "  first_clients_data = train.create_tf_dataset_for_client(train.client_ids[i])\n",
        "  plot = collections.defaultdict(list)\n",
        "  for example in first_clients_data:\n",
        "    label = example['label'].numpy()\n",
        "    plot[label].append(label)\n",
        "  plt.subplot(4, 5, i+1)\n",
        "  plt.title('Użytkownik {}'.format(i))\n",
        "  for number in range(10):\n",
        "    plt.hist(\n",
        "        plot[number],\n",
        "        density=False,\n",
        "        bins=[0, 1, 2, 3, 4, 5, 6, 7, 8, 9, 10])\n"
      ]
    },
    {
      "cell_type": "code",
      "execution_count": 8,
      "metadata": {
        "colab": {
          "base_uri": "https://localhost:8080/"
        },
        "id": "MrtWW3wVweZw",
        "outputId": "ee9903a5-79b6-4604-f958-77e38b1000c4"
      },
      "outputs": [
        {
          "output_type": "stream",
          "name": "stdout",
          "text": [
            "Użytkownik: 0\n",
            "Użytkownik: 750\n",
            "Użytkownik: 1500\n",
            "Użytkownik: 2250\n",
            "Użytkownik: 3000\n"
          ]
        }
      ],
      "source": [
        "all_statistics = [[],[],[],[],[],[],[],[],[],[]]\n",
        "clients_sum = []\n",
        "for i in range(len(test.client_ids)):\n",
        "  dataset = train.create_tf_dataset_for_client(train.client_ids[i])\n",
        "  clients_sum.append(0)\n",
        "  if (i % 750 == 0):\n",
        "    print(\"Użytkownik: \" + str(i))\n",
        "  for j in range(10):\n",
        "    all_statistics[j].append(0)\n",
        "  for example in dataset:\n",
        "    label = example['label'].numpy()\n",
        "    all_statistics[label][i] += 1\n",
        "    clients_sum[i] += 1\n"
      ]
    },
    {
      "cell_type": "code",
      "execution_count": 9,
      "metadata": {
        "id": "fQaBwgEObIH-",
        "colab": {
          "base_uri": "https://localhost:8080/"
        },
        "outputId": "603a5139-8b3e-4f2c-f86d-b87ae0cb84ee"
      },
      "outputs": [
        {
          "output_type": "stream",
          "name": "stdout",
          "text": [
            "Średnia ilość próbek 101.0561631687851\n",
            "Średnie ochylenie standardowe ilości próbek  14.725162999488088\n"
          ]
        }
      ],
      "source": [
        "from numpy import std,mean\n",
        "print(\"Średnia ilość próbek \" + str(mean(clients_sum)))\n",
        "print(\"Średnie ochylenie standardowe ilości próbek  \" + str(std(clients_sum)))"
      ]
    },
    {
      "cell_type": "code",
      "execution_count": 10,
      "metadata": {
        "id": "L8xO6sPidezk",
        "colab": {
          "base_uri": "https://localhost:8080/",
          "height": 294
        },
        "outputId": "d82d2913-1df9-43d5-d1b8-c886f5226401"
      },
      "outputs": [
        {
          "output_type": "display_data",
          "data": {
            "text/plain": [
              "<Figure size 432x288 with 1 Axes>"
            ],
            "image/png": "[encoded data removed]"
          },
          "metadata": {
            "needs_background": "light"
          }
        }
      ],
      "source": [
        "figure_2 = plt.figure()\n",
        "figure_2.suptitle('Number of samples from one client')\n",
        "\n",
        "plt.plot(clients_sum, list(range(0, len(train.client_ids))))\n",
        "plt.show()"
      ]
    },
    {
      "cell_type": "code",
      "execution_count": 11,
      "metadata": {
        "id": "BEs92Uma_jDw",
        "colab": {
          "base_uri": "https://localhost:8080/",
          "height": 294
        },
        "outputId": "2e0892c6-c84e-42cc-a975-cf885728b89c"
      },
      "outputs": [
        {
          "output_type": "display_data",
          "data": {
            "text/plain": [
              "<Figure size 432x288 with 1 Axes>"
            ],
            "image/png": "[encoded data removed]"
          },
          "metadata": {
            "needs_background": "light"
          }
        }
      ],
      "source": [
        "from numpy.core.fromnumeric import mean\n",
        "\n",
        "plot_statistics_list = [[],[],[]]\n",
        "bins = [0, 1, 2, 3, 4, 5, 6, 7, 8, 9]\n",
        "for i in range(10):\n",
        "  plot_statistics_list[0].append(mean(all_statistics[i]))\n",
        "  plot_statistics_list[1].append(max(all_statistics[i]))\n",
        "  plot_statistics_list[2].append(min(all_statistics[i]))\n",
        "\n",
        "figure_3 = plt.figure()\n",
        "figure_3.suptitle('Statystyki ilościowe danych')\n",
        "\n",
        "plt.xlim(0, 9)\n",
        "plt.plot(bins, plot_statistics_list[0], label = \"średnia\")\n",
        "plt.plot(bins, plot_statistics_list[1], label = \"max\")\n",
        "plt.plot(bins, plot_statistics_list[2], label = \"min\")\n",
        "plt.legend()\n",
        "plt.show()"
      ]
    },
    {
      "cell_type": "code",
      "execution_count": 12,
      "metadata": {
        "id": "zjZzXGp3wej3",
        "colab": {
          "base_uri": "https://localhost:8080/"
        },
        "outputId": "a5361a7c-e611-42ab-9cb3-10de6fb23d24"
      },
      "outputs": [
        {
          "output_type": "stream",
          "name": "stderr",
          "text": [
            "WARNING:tensorflow:From /usr/local/lib/python3.7/dist-packages/tensorflow/python/autograph/pyct/static_analysis/liveness.py:83: Analyzer.lamba_check (from tensorflow.python.autograph.pyct.static_analysis.liveness) is deprecated and will be removed after 2023-09-23.\n",
            "Instructions for updating:\n",
            "Lambda fuctions will be no more assumed to be used in the statement where they are used, or at least in the same block. https://github.com/tensorflow/tensorflow/issues/56089\n"
          ]
        }
      ],
      "source": [
        "def get_emnist_dataset():\n",
        "  emnist_train, emnist_test = tff.simulation.datasets.emnist.load_data(\n",
        "      only_digits=True)\n",
        "\n",
        "  def element_change(element):\n",
        "    return collections.OrderedDict(\n",
        "        x=tf.expand_dims(element['pixels'], -1), y=element['label'])\n",
        "\n",
        "  def train_preprocess(dataset):\n",
        "    return (dataset.map(element_change)\n",
        "                   .shuffle(buffer_size=418)\n",
        "                   .repeat(1)\n",
        "                   .batch(32, drop_remainder=False))\n",
        "\n",
        "  def test_preprocess(dataset):\n",
        "    return dataset.map(element_change).batch(128, drop_remainder=False)\n",
        "\n",
        "  emnist_train = emnist_train.preprocess(train_preprocess)\n",
        "  emnist_test = test_preprocess(\n",
        "      emnist_test.create_tf_dataset_from_all_clients())\n",
        "  return emnist_train, emnist_test\n",
        "\n",
        "emnist_train, emnist_test = get_emnist_dataset()\n"
      ]
    },
    {
      "cell_type": "code",
      "execution_count": 13,
      "metadata": {
        "id": "-VrnWokPweup"
      },
      "outputs": [],
      "source": [
        "def my_model_fn():\n",
        "  model = tf.keras.models.Sequential([\n",
        "      tf.keras.layers.Reshape(input_shape=(28, 28, 1), target_shape=(28 * 28,)),\n",
        "      tf.keras.layers.Dense(200, activation=tf.nn.relu),\n",
        "      tf.keras.layers.Dense(200, activation=tf.nn.relu),\n",
        "      tf.keras.layers.Dense(10)])\n",
        "  return tff.learning.from_keras_model(\n",
        "      keras_model=model,\n",
        "      loss=tf.keras.losses.SparseCategoricalCrossentropy(from_logits=True),\n",
        "      input_spec=emnist_test.element_spec,\n",
        "      metrics=[tf.keras.metrics.SparseCategoricalAccuracy()])"
      ]
    },
    {
      "cell_type": "code",
      "execution_count": 14,
      "metadata": {
        "id": "_2q9nwgzhpWM"
      },
      "outputs": [],
      "source": [
        "tff.backends.native.set_local_python_execution_context(clients_per_thread=10)\n",
        "\n",
        "total_clients = len(emnist_train.client_ids)\n",
        "\n",
        "def train(rounds, noise_multiplier, clients_per_round, data_frame):\n",
        "  aggregation_factory = tff.learning.model_update_aggregator.dp_aggregator(\n",
        "      noise_multiplier, clients_per_round)\n",
        "\n",
        "  sampling_prob = clients_per_round / total_clients\n",
        "\n",
        "  learning_process = tff.learning.algorithms.build_unweighted_fed_avg(\n",
        "        my_model_fn,\n",
        "        client_optimizer_fn=lambda: tf.keras.optimizers.SGD(0.01),\n",
        "        server_optimizer_fn=lambda: tf.keras.optimizers.SGD(1.0, momentum=0.9),\n",
        "        model_aggregator=aggregation_factory)\n",
        "\n",
        "  eval_process = tff.learning.build_federated_evaluation(my_model_fn)\n",
        "\n",
        "  state = learning_process.initialize()\n",
        "  for round in range(rounds):\n",
        "    if round % 2 == 0:\n",
        "      model_weights = learning_process.get_model_weights(state)\n",
        "      metrics = eval_process(model_weights, [emnist_test])['eval']\n",
        "      print(f'Runda {round:3d}: {metrics}')\n",
        "      data_frame = data_frame.append({'Runda': round,\n",
        "                                      'NoiseMultiplier': noise_multiplier,\n",
        "                                      **metrics}, ignore_index=True)\n",
        "    x = np.random.uniform(size=total_clients)\n",
        "    sampled_clients = [\n",
        "        emnist_train.client_ids[i] for i in range(total_clients)\n",
        "        if x[i] < sampling_prob]\n",
        "    sampled_train_data = [\n",
        "        emnist_train.create_tf_dataset_for_client(client)\n",
        "        for client in sampled_clients]\n",
        "\n",
        "    result = learning_process.next(state, sampled_train_data)\n",
        "    state = result.state\n",
        "    metrics = result.metrics\n",
        "\n",
        "  model_weights = learning_process.get_model_weights(state)\n",
        "  metrics = eval_process(model_weights, [emnist_test])['eval']\n",
        "  print(f'Runda {rounds:3d}: {metrics}')\n",
        "  data_frame = data_frame.append({'Runda': rounds,\n",
        "                                  'NoiseMultiplier': noise_multiplier,\n",
        "                                  **metrics}, ignore_index=True)\n",
        "\n",
        "  return data_frame\n"
      ]
    },
    {
      "cell_type": "markdown",
      "metadata": {
        "id": "gkPkminhwe9L"
      },
      "source": [
        "Proces testowania\n"
      ]
    },
    {
      "cell_type": "code",
      "execution_count": 15,
      "metadata": {
        "id": "thh0kXMEDoW6"
      },
      "outputs": [],
      "source": [
        "def client10(noise_multiplier):\n",
        "  rounds = 2\n",
        "  clients_per_round = 10\n",
        "  data_noise_10_clients_basic_model = pd.DataFrame()\n",
        "\n",
        "  print(\"Mnożnik szumu \" + str(noise_multiplier))\n",
        "\n",
        "  data_noise_10_clients_basic_model = train(rounds, noise_multiplier, clients_per_round, data_noise_10_clients_basic_model)\n",
        "  print()\n",
        "\n",
        "  return data_noise_10_clients_basic_model\n"
      ]
    },
    {
      "cell_type": "code",
      "execution_count": 16,
      "metadata": {
        "colab": {
          "base_uri": "https://localhost:8080/"
        },
        "id": "3VshlLIgtLJ0",
        "outputId": "5f4ac770-2c69-43ba-c846-7f9ed7083a59"
      },
      "outputs": [
        {
          "output_type": "stream",
          "name": "stdout",
          "text": [
            "Mnożnik szumu 0.0\n",
            "Runda   0: OrderedDict([('sparse_categorical_accuracy', 0.100582875), ('loss', 2.6813045), ('num_examples', 40832), ('num_batches', 319)])\n",
            "Runda   2: OrderedDict([('sparse_categorical_accuracy', 0.08451705), ('loss', 2.3999476), ('num_examples', 40832), ('num_batches', 319)])\n",
            "\n"
          ]
        }
      ],
      "source": [
        "buff = client10(0.0)"
      ]
    },
    {
      "cell_type": "code",
      "execution_count": 17,
      "metadata": {
        "colab": {
          "base_uri": "https://localhost:8080/"
        },
        "id": "BIqWINHf1nZS",
        "outputId": "ec022082-e871-4e76-f328-e177b9d58bb0"
      },
      "outputs": [
        {
          "output_type": "stream",
          "name": "stdout",
          "text": [
            "Mnożnik szumu 0.25\n",
            "Runda   0: OrderedDict([('sparse_categorical_accuracy', 0.09024785), ('loss', 2.681518), ('num_examples', 40832), ('num_batches', 319)])\n",
            "Runda   2: OrderedDict([('sparse_categorical_accuracy', 0.102125786), ('loss', 2.2954292), ('num_examples', 40832), ('num_batches', 319)])\n",
            "\n"
          ]
        }
      ],
      "source": [
        "buff = client10(0.25)"
      ]
    },
    {
      "cell_type": "code",
      "execution_count": 18,
      "metadata": {
        "colab": {
          "base_uri": "https://localhost:8080/"
        },
        "id": "ZTcNcA8a1ndJ",
        "outputId": "24d26e93-233c-4903-f829-07984f270e55"
      },
      "outputs": [
        {
          "output_type": "stream",
          "name": "stdout",
          "text": [
            "Mnożnik szumu 0.5\n",
            "Runda   0: OrderedDict([('sparse_categorical_accuracy', 0.09913793), ('loss', 2.731355), ('num_examples', 40832), ('num_batches', 319)])\n",
            "Runda   2: OrderedDict([('sparse_categorical_accuracy', 0.09039479), ('loss', 2.3207817), ('num_examples', 40832), ('num_batches', 319)])\n",
            "\n"
          ]
        }
      ],
      "source": [
        "buff = client10(0.5)"
      ]
    },
    {
      "cell_type": "code",
      "execution_count": 19,
      "metadata": {
        "colab": {
          "base_uri": "https://localhost:8080/"
        },
        "id": "GDFKX3Ek1nq7",
        "outputId": "12eeabc4-3c01-4b88-af1b-62c7fc4931f8"
      },
      "outputs": [
        {
          "output_type": "stream",
          "name": "stdout",
          "text": [
            "Mnożnik szumu 0.75\n",
            "Runda   0: OrderedDict([('sparse_categorical_accuracy', 0.108395375), ('loss', 2.444168), ('num_examples', 40832), ('num_batches', 319)])\n",
            "Runda   2: OrderedDict([('sparse_categorical_accuracy', 0.09580721), ('loss', 2.424678), ('num_examples', 40832), ('num_batches', 319)])\n",
            "\n"
          ]
        }
      ],
      "source": [
        "buff = client10(0.75)"
      ]
    },
    {
      "cell_type": "code",
      "execution_count": 20,
      "metadata": {
        "id": "F4ROh0ogDohd"
      },
      "outputs": [],
      "source": [
        "def client30(noise_multiplier):\n",
        "  data_noise_30_clients_basic_model = pd.DataFrame()\n",
        "  rounds = 2\n",
        "  clients_per_round = 30\n",
        "\n",
        "  print(\"Mnożnik szumu \" + str(noise_multiplier))\n",
        "\n",
        "  data_noise_30_clients_basic_model = train(rounds, noise_multiplier, clients_per_round, data_noise_30_clients_basic_model)\n",
        "  print()\n",
        "\n",
        "  return data_noise_30_clients_basic_model"
      ]
    },
    {
      "cell_type": "code",
      "execution_count": 21,
      "metadata": {
        "colab": {
          "base_uri": "https://localhost:8080/"
        },
        "id": "n7kN8AV54tlN",
        "outputId": "61a77e2b-8d98-4574-8369-316d285dbdb6"
      },
      "outputs": [
        {
          "output_type": "stream",
          "name": "stdout",
          "text": [
            "Mnożnik szumu 0.0\n",
            "Runda   0: OrderedDict([('sparse_categorical_accuracy', 0.104280956), ('loss', 2.7640808), ('num_examples', 40832), ('num_batches', 319)])\n",
            "Runda   2: OrderedDict([('sparse_categorical_accuracy', 0.15610306), ('loss', 2.3771768), ('num_examples', 40832), ('num_batches', 319)])\n",
            "\n"
          ]
        }
      ],
      "source": [
        "buff = client30(0.0)"
      ]
    },
    {
      "cell_type": "code",
      "execution_count": 22,
      "metadata": {
        "colab": {
          "base_uri": "https://localhost:8080/"
        },
        "id": "EIaqPlhY4tzX",
        "outputId": "9a4d69e3-7a92-4bd7-9cbc-9274fae52cee"
      },
      "outputs": [
        {
          "output_type": "stream",
          "name": "stdout",
          "text": [
            "Mnożnik szumu 0.25\n",
            "Runda   0: OrderedDict([('sparse_categorical_accuracy', 0.0913989), ('loss', 2.557013), ('num_examples', 40832), ('num_batches', 319)])\n",
            "Runda   2: OrderedDict([('sparse_categorical_accuracy', 0.18416928), ('loss', 2.3005764), ('num_examples', 40832), ('num_batches', 319)])\n",
            "\n"
          ]
        }
      ],
      "source": [
        "buff = client30(0.25)"
      ]
    },
    {
      "cell_type": "code",
      "execution_count": 23,
      "metadata": {
        "colab": {
          "base_uri": "https://localhost:8080/"
        },
        "id": "_e5rre7T4t7D",
        "outputId": "e742d3d6-5e40-4533-8c0d-ba60a7211a50"
      },
      "outputs": [
        {
          "output_type": "stream",
          "name": "stdout",
          "text": [
            "Mnożnik szumu 0.5\n",
            "Runda   0: OrderedDict([('sparse_categorical_accuracy', 0.1052116), ('loss', 2.3903818), ('num_examples', 40832), ('num_batches', 319)])\n",
            "Runda   2: OrderedDict([('sparse_categorical_accuracy', 0.09923589), ('loss', 2.2993577), ('num_examples', 40832), ('num_batches', 319)])\n",
            "\n"
          ]
        }
      ],
      "source": [
        "buff = client30(0.5)"
      ]
    },
    {
      "cell_type": "code",
      "execution_count": 24,
      "metadata": {
        "colab": {
          "base_uri": "https://localhost:8080/"
        },
        "id": "WDejflY-4uCo",
        "outputId": "a410b31c-99fc-4b0e-bbf1-fe6d3e6a0c7c"
      },
      "outputs": [
        {
          "output_type": "stream",
          "name": "stdout",
          "text": [
            "Mnożnik szumu 0.75\n",
            "Runda   0: OrderedDict([('sparse_categorical_accuracy', 0.09379898), ('loss', 2.6691437), ('num_examples', 40832), ('num_batches', 319)])\n",
            "Runda   2: OrderedDict([('sparse_categorical_accuracy', 0.10817496), ('loss', 2.3201368), ('num_examples', 40832), ('num_batches', 319)])\n",
            "\n"
          ]
        }
      ],
      "source": [
        "buff = client30(0.75)"
      ]
    },
    {
      "cell_type": "code",
      "execution_count": 25,
      "metadata": {
        "colab": {
          "base_uri": "https://localhost:8080/"
        },
        "id": "MdgxhCqC4uLo",
        "outputId": "23c7acc3-e5dd-41b3-f10a-1397d7538f8e"
      },
      "outputs": [
        {
          "output_type": "stream",
          "name": "stdout",
          "text": [
            "Mnożnik szumu 1.0\n",
            "Runda   0: OrderedDict([('sparse_categorical_accuracy', 0.088949844), ('loss', 2.6983192), ('num_examples', 40832), ('num_batches', 319)])\n",
            "Runda   2: OrderedDict([('sparse_categorical_accuracy', 0.0986971), ('loss', 2.3540847), ('num_examples', 40832), ('num_batches', 319)])\n",
            "\n"
          ]
        }
      ],
      "source": [
        "buff = client30(1.0)"
      ]
    },
    {
      "cell_type": "code",
      "execution_count": 26,
      "metadata": {
        "id": "r2aFHZe5wfCa"
      },
      "outputs": [],
      "source": [
        "def client50(noise_multiplier):\n",
        "  data_noise_50_clients_basic_model = pd.DataFrame()\n",
        "  rounds = 2\n",
        "  clients_per_round = 50\n",
        "\n",
        "  print(\"Mnożnik szumu \" + str(noise_multiplier))\n",
        "  data_noise_50_clients_basic_model = train(rounds, noise_multiplier, clients_per_round, data_noise_50_clients_basic_model)\n",
        "  print()\n",
        "\n",
        "  return data_noise_50_clients_basic_model\n"
      ]
    },
    {
      "cell_type": "code",
      "execution_count": 27,
      "metadata": {
        "colab": {
          "base_uri": "https://localhost:8080/"
        },
        "id": "2ab2EQkwC8QT",
        "outputId": "f3668fd5-8208-4d88-d77a-fee33ad47339"
      },
      "outputs": [
        {
          "output_type": "stream",
          "name": "stdout",
          "text": [
            "Mnożnik szumu 0.0\n",
            "Runda   0: OrderedDict([('sparse_categorical_accuracy', 0.053365007), ('loss', 2.478124), ('num_examples', 40832), ('num_batches', 319)])\n",
            "Runda   2: OrderedDict([('sparse_categorical_accuracy', 0.098525666), ('loss', 2.33888), ('num_examples', 40832), ('num_batches', 319)])\n",
            "\n"
          ]
        }
      ],
      "source": [
        "buff = client50(0.0)"
      ]
    },
    {
      "cell_type": "code",
      "execution_count": 28,
      "metadata": {
        "colab": {
          "base_uri": "https://localhost:8080/"
        },
        "id": "LE-ztTSTC8YN",
        "outputId": "4c0d196e-581d-4f10-a132-7c8c17b4b7a6"
      },
      "outputs": [
        {
          "output_type": "stream",
          "name": "stdout",
          "text": [
            "Mnożnik szumu 0.25\n",
            "Runda   0: OrderedDict([('sparse_categorical_accuracy', 0.09742359), ('loss', 2.5057008), ('num_examples', 40832), ('num_batches', 319)])\n",
            "Runda   2: OrderedDict([('sparse_categorical_accuracy', 0.11659972), ('loss', 2.3317466), ('num_examples', 40832), ('num_batches', 319)])\n",
            "\n"
          ]
        }
      ],
      "source": [
        "buff = client50(0.25)"
      ]
    },
    {
      "cell_type": "code",
      "execution_count": 29,
      "metadata": {
        "colab": {
          "base_uri": "https://localhost:8080/"
        },
        "id": "bFbMIBS8C8f6",
        "outputId": "03a79214-f046-45eb-8d4c-965f702606f3"
      },
      "outputs": [
        {
          "output_type": "stream",
          "name": "stdout",
          "text": [
            "Mnożnik szumu 0.5\n",
            "Runda   0: OrderedDict([('sparse_categorical_accuracy', 0.100705326), ('loss', 2.5870993), ('num_examples', 40832), ('num_batches', 319)])\n",
            "Runda   2: OrderedDict([('sparse_categorical_accuracy', 0.0994808), ('loss', 2.3524091), ('num_examples', 40832), ('num_batches', 319)])\n",
            "\n"
          ]
        }
      ],
      "source": [
        "buff = client50(0.5)"
      ]
    },
    {
      "cell_type": "code",
      "execution_count": 30,
      "metadata": {
        "id": "nreMXSxAC8m-",
        "colab": {
          "base_uri": "https://localhost:8080/"
        },
        "outputId": "502c7428-189e-46ca-bf45-be0b599361ef"
      },
      "outputs": [
        {
          "output_type": "stream",
          "name": "stdout",
          "text": [
            "Mnożnik szumu 0.75\n",
            "Runda   0: OrderedDict([('sparse_categorical_accuracy', 0.09828076), ('loss', 2.3929768), ('num_examples', 40832), ('num_batches', 319)])\n",
            "Runda   2: OrderedDict([('sparse_categorical_accuracy', 0.14527822), ('loss', 2.303288), ('num_examples', 40832), ('num_batches', 319)])\n",
            "\n"
          ]
        }
      ],
      "source": [
        "buff = client50(0.75)"
      ]
    },
    {
      "cell_type": "code",
      "execution_count": 31,
      "metadata": {
        "colab": {
          "base_uri": "https://localhost:8080/"
        },
        "id": "jG8afBTjC8uT",
        "outputId": "2940f16f-990b-4425-d30f-1ed0dab38d15"
      },
      "outputs": [
        {
          "output_type": "stream",
          "name": "stdout",
          "text": [
            "Mnożnik szumu 1.0\n",
            "Runda   0: OrderedDict([('sparse_categorical_accuracy', 0.09575823), ('loss', 2.4736624), ('num_examples', 40832), ('num_batches', 319)])\n",
            "Runda   2: OrderedDict([('sparse_categorical_accuracy', 0.082876176), ('loss', 2.311419), ('num_examples', 40832), ('num_batches', 319)])\n",
            "\n"
          ]
        }
      ],
      "source": [
        "buff = client50(1.0)"
      ]
    },
    {
      "cell_type": "code",
      "execution_count": 32,
      "metadata": {
        "id": "KzKjNM_EDok3"
      },
      "outputs": [],
      "source": [
        "def client70(noise_multiplier):\n",
        "  data_noise_70_clients_basic_model = pd.DataFrame()\n",
        "  rounds = 2\n",
        "  clients_per_round = 70\n",
        "\n",
        "  print(\"Mnożnik szumu \" + str(noise_multiplier))\n",
        "  data_noise_70_clients_basic_model = train(rounds, noise_multiplier, clients_per_round, data_noise_70_clients_basic_model)\n",
        "  print()\n",
        "\n",
        "  return data_noise_70_clients_basic_model"
      ]
    },
    {
      "cell_type": "code",
      "execution_count": 33,
      "metadata": {
        "id": "qPfjQJw8DsP6",
        "colab": {
          "base_uri": "https://localhost:8080/"
        },
        "outputId": "90c47079-b234-4137-8102-afaa8a9c8355"
      },
      "outputs": [
        {
          "output_type": "stream",
          "name": "stdout",
          "text": [
            "Mnożnik szumu 0.0\n",
            "Runda   0: OrderedDict([('sparse_categorical_accuracy', 0.11221591), ('loss', 2.452735), ('num_examples', 40832), ('num_batches', 319)])\n",
            "Runda   2: OrderedDict([('sparse_categorical_accuracy', 0.10303193), ('loss', 2.3497317), ('num_examples', 40832), ('num_batches', 319)])\n",
            "\n"
          ]
        }
      ],
      "source": [
        "buff = client70(0.0)"
      ]
    },
    {
      "cell_type": "code",
      "execution_count": 34,
      "metadata": {
        "id": "DXHrSr0RDsaH",
        "colab": {
          "base_uri": "https://localhost:8080/"
        },
        "outputId": "14d1ed69-1326-4907-85c5-7ceb44e20dd0"
      },
      "outputs": [
        {
          "output_type": "stream",
          "name": "stdout",
          "text": [
            "Mnożnik szumu 0.25\n",
            "Runda   0: OrderedDict([('sparse_categorical_accuracy', 0.09796238), ('loss', 2.4345279), ('num_examples', 40832), ('num_batches', 319)])\n",
            "Runda   2: OrderedDict([('sparse_categorical_accuracy', 0.106264696), ('loss', 2.308259), ('num_examples', 40832), ('num_batches', 319)])\n",
            "\n"
          ]
        }
      ],
      "source": [
        "buff = client70(0.25)"
      ]
    },
    {
      "cell_type": "code",
      "execution_count": 35,
      "metadata": {
        "id": "_nQt__g7DsjA",
        "colab": {
          "base_uri": "https://localhost:8080/"
        },
        "outputId": "1d37e4f7-7d59-458e-ad7d-1aa08ce0c74e"
      },
      "outputs": [
        {
          "output_type": "stream",
          "name": "stdout",
          "text": [
            "Mnożnik szumu 0.5\n",
            "Runda   0: OrderedDict([('sparse_categorical_accuracy', 0.09223159), ('loss', 2.5554998), ('num_examples', 40832), ('num_batches', 319)])\n",
            "Runda   2: OrderedDict([('sparse_categorical_accuracy', 0.17875686), ('loss', 2.284403), ('num_examples', 40832), ('num_batches', 319)])\n",
            "\n"
          ]
        }
      ],
      "source": [
        "buff = client70(0.5)"
      ]
    },
    {
      "cell_type": "code",
      "execution_count": 36,
      "metadata": {
        "colab": {
          "base_uri": "https://localhost:8080/"
        },
        "id": "zJY8vk3mDsqy",
        "outputId": "68380280-9c33-44de-c1dd-cfc9edadb29a"
      },
      "outputs": [
        {
          "output_type": "stream",
          "name": "stdout",
          "text": [
            "Mnożnik szumu 0.75\n",
            "Runda   0: OrderedDict([('sparse_categorical_accuracy', 0.10036246), ('loss', 2.6661122), ('num_examples', 40832), ('num_batches', 319)])\n",
            "Runda   2: OrderedDict([('sparse_categorical_accuracy', 0.10655858), ('loss', 2.3164082), ('num_examples', 40832), ('num_batches', 319)])\n",
            "\n"
          ]
        }
      ],
      "source": [
        "buff = client70(0.75)"
      ]
    },
    {
      "cell_type": "code",
      "execution_count": 37,
      "metadata": {
        "id": "iY1E-6ToDtzd",
        "colab": {
          "base_uri": "https://localhost:8080/"
        },
        "outputId": "b13a570b-71d8-4cf5-8a69-b09b16333f82"
      },
      "outputs": [
        {
          "output_type": "stream",
          "name": "stdout",
          "text": [
            "Mnożnik szumu 1.2\n",
            "Runda   0: OrderedDict([('sparse_categorical_accuracy', 0.09357856), ('loss', 2.526263), ('num_examples', 40832), ('num_batches', 319)])\n",
            "Runda   2: OrderedDict([('sparse_categorical_accuracy', 0.09590517), ('loss', 2.3461683), ('num_examples', 40832), ('num_batches', 319)])\n",
            "\n"
          ]
        }
      ],
      "source": [
        "buff = client70(1.2)"
      ]
    },
    {
      "cell_type": "code",
      "execution_count": 38,
      "metadata": {
        "id": "SBa81bvcSlyy",
        "colab": {
          "base_uri": "https://localhost:8080/"
        },
        "outputId": "8fd231f4-9c98-4c51-8345-62f065a43fde"
      },
      "outputs": [
        {
          "output_type": "stream",
          "name": "stdout",
          "text": [
            "Mnożnik szumu 1.4\n",
            "Runda   0: OrderedDict([('sparse_categorical_accuracy', 0.10173394), ('loss', 2.5762272), ('num_examples', 40832), ('num_batches', 319)])\n",
            "Runda   2: OrderedDict([('sparse_categorical_accuracy', 0.11532622), ('loss', 2.3019717), ('num_examples', 40832), ('num_batches', 319)])\n",
            "\n"
          ]
        }
      ],
      "source": [
        "buff = client70(1.4)"
      ]
    },
    {
      "cell_type": "code",
      "execution_count": 39,
      "metadata": {
        "id": "IwdSM5YDDooR"
      },
      "outputs": [],
      "source": [
        "def client100(noise_multiplier):\n",
        "  data_noise_100_clients_basic_model = pd.DataFrame()\n",
        "  rounds = 2\n",
        "  clients_per_round = 100\n",
        "\n",
        "  print(\"Mnożnik szumu \" + str(noise_multiplier))\n",
        "  data_noise_100_clients_basic_model = train(rounds, noise_multiplier, clients_per_round, data_noise_100_clients_basic_model)\n",
        "  print()\n",
        "\n",
        "  return data_noise_100_clients_basic_model"
      ]
    },
    {
      "cell_type": "code",
      "execution_count": 40,
      "metadata": {
        "id": "bl48XL0CEcrN",
        "colab": {
          "base_uri": "https://localhost:8080/"
        },
        "outputId": "52f2f4a6-329b-4f6a-d239-4fd825c154d5"
      },
      "outputs": [
        {
          "output_type": "stream",
          "name": "stdout",
          "text": [
            "Mnożnik szumu 0.0\n",
            "Runda   0: OrderedDict([('sparse_categorical_accuracy', 0.114077196), ('loss', 2.4930954), ('num_examples', 40832), ('num_batches', 319)])\n",
            "Runda   2: OrderedDict([('sparse_categorical_accuracy', 0.17329545), ('loss', 2.323072), ('num_examples', 40832), ('num_batches', 319)])\n",
            "\n"
          ]
        }
      ],
      "source": [
        "buff = client100(0.0)"
      ]
    },
    {
      "cell_type": "code",
      "execution_count": 41,
      "metadata": {
        "colab": {
          "base_uri": "https://localhost:8080/"
        },
        "id": "Dyde3oG9Ec2N",
        "outputId": "facd1769-4175-4105-d2d2-8b85ec8fdc79"
      },
      "outputs": [
        {
          "output_type": "stream",
          "name": "stdout",
          "text": [
            "Mnożnik szumu 0.25\n",
            "Runda   0: OrderedDict([('sparse_categorical_accuracy', 0.09965223), ('loss', 2.587736), ('num_examples', 40832), ('num_batches', 319)])\n",
            "Runda   2: OrderedDict([('sparse_categorical_accuracy', 0.112313874), ('loss', 2.3222933), ('num_examples', 40832), ('num_batches', 319)])\n",
            "\n"
          ]
        }
      ],
      "source": [
        "buff = client100(0.25)"
      ]
    },
    {
      "cell_type": "code",
      "execution_count": 42,
      "metadata": {
        "colab": {
          "base_uri": "https://localhost:8080/"
        },
        "id": "r8-ykK_eEc_I",
        "outputId": "2f58d72b-a5e1-4b37-aa63-8680569b4a07"
      },
      "outputs": [
        {
          "output_type": "stream",
          "name": "stdout",
          "text": [
            "Mnożnik szumu 0.5\n",
            "Runda   0: OrderedDict([('sparse_categorical_accuracy', 0.08779878), ('loss', 2.8301654), ('num_examples', 40832), ('num_batches', 319)])\n",
            "Runda   2: OrderedDict([('sparse_categorical_accuracy', 0.16567887), ('loss', 2.3012772), ('num_examples', 40832), ('num_batches', 319)])\n",
            "\n"
          ]
        }
      ],
      "source": [
        "buff = client100(0.5)"
      ]
    },
    {
      "cell_type": "code",
      "execution_count": 43,
      "metadata": {
        "colab": {
          "base_uri": "https://localhost:8080/"
        },
        "id": "3Hps8lCVEdHe",
        "outputId": "fa931cf2-e347-49df-bb01-c82c1f4dd172"
      },
      "outputs": [
        {
          "output_type": "stream",
          "name": "stdout",
          "text": [
            "Mnożnik szumu 0.75\n",
            "Runda   0: OrderedDict([('sparse_categorical_accuracy', 0.09796238), ('loss', 2.9647846), ('num_examples', 40832), ('num_batches', 319)])\n",
            "Runda   2: OrderedDict([('sparse_categorical_accuracy', 0.12441222), ('loss', 2.3361936), ('num_examples', 40832), ('num_batches', 319)])\n",
            "\n"
          ]
        }
      ],
      "source": [
        "buff = client100(0.75)"
      ]
    },
    {
      "cell_type": "code",
      "execution_count": 44,
      "metadata": {
        "colab": {
          "base_uri": "https://localhost:8080/"
        },
        "id": "ugsWhzZjEdQq",
        "outputId": "8a320b39-916f-4169-9ba7-a67afecebba3"
      },
      "outputs": [
        {
          "output_type": "stream",
          "name": "stdout",
          "text": [
            "Mnożnik szumu 1.0\n",
            "Runda   0: OrderedDict([('sparse_categorical_accuracy', 0.10072982), ('loss', 2.5547576), ('num_examples', 40832), ('num_batches', 319)])\n",
            "Runda   2: OrderedDict([('sparse_categorical_accuracy', 0.11544867), ('loss', 2.3057547), ('num_examples', 40832), ('num_batches', 319)])\n",
            "\n"
          ]
        }
      ],
      "source": [
        "buff = client100(1.0)"
      ]
    },
    {
      "cell_type": "code",
      "execution_count": 45,
      "metadata": {
        "colab": {
          "base_uri": "https://localhost:8080/"
        },
        "id": "KVAkeL8hEdYd",
        "outputId": "0638f857-df4f-42b3-8b10-885d2fa14a29"
      },
      "outputs": [
        {
          "output_type": "stream",
          "name": "stdout",
          "text": [
            "Mnożnik szumu 1.2\n",
            "Runda   0: OrderedDict([('sparse_categorical_accuracy', 0.1122404), ('loss', 2.6661353), ('num_examples', 40832), ('num_batches', 319)])\n",
            "Runda   2: OrderedDict([('sparse_categorical_accuracy', 0.092574455), ('loss', 2.3142407), ('num_examples', 40832), ('num_batches', 319)])\n",
            "\n"
          ]
        }
      ],
      "source": [
        "buff = client100(1.2)"
      ]
    },
    {
      "cell_type": "code",
      "execution_count": 46,
      "metadata": {
        "colab": {
          "base_uri": "https://localhost:8080/"
        },
        "id": "Njc031n3YHUy",
        "outputId": "8326cd4b-0553-478f-8afb-84319365e5bd"
      },
      "outputs": [
        {
          "output_type": "stream",
          "name": "stdout",
          "text": [
            "Mnożnik szumu 1.4\n",
            "Runda   0: OrderedDict([('sparse_categorical_accuracy', 0.09803586), ('loss', 2.833515), ('num_examples', 40832), ('num_batches', 319)])\n",
            "Runda   2: OrderedDict([('sparse_categorical_accuracy', 0.13633914), ('loss', 2.3533576), ('num_examples', 40832), ('num_batches', 319)])\n",
            "\n"
          ]
        }
      ],
      "source": [
        "buff = client100(1.4)"
      ]
    },
    {
      "cell_type": "code",
      "execution_count": 47,
      "metadata": {
        "colab": {
          "base_uri": "https://localhost:8080/"
        },
        "id": "VoeQo7trcx4x",
        "outputId": "d5075541-c15f-48d1-ad0b-ff513c21e942"
      },
      "outputs": [
        {
          "output_type": "stream",
          "name": "stdout",
          "text": [
            "Mnożnik szumu 1.4\n",
            "Runda   0: OrderedDict([('sparse_categorical_accuracy', 0.09580721), ('loss', 2.734244), ('num_examples', 40832), ('num_batches', 319)])\n",
            "Runda   2: OrderedDict([('sparse_categorical_accuracy', 0.07178193), ('loss', 2.345258), ('num_examples', 40832), ('num_batches', 319)])\n",
            "\n"
          ]
        }
      ],
      "source": [
        "buff = client100(1.4)"
      ]
    },
    {
      "cell_type": "code",
      "execution_count": 48,
      "metadata": {
        "colab": {
          "base_uri": "https://localhost:8080/"
        },
        "id": "kO6n68cQvuhG",
        "outputId": "41befab3-fb1a-4f87-b843-590452c0c4ed"
      },
      "outputs": [
        {
          "output_type": "stream",
          "name": "stdout",
          "text": [
            "Mnożnik szumu 1.6\n",
            "Runda   0: OrderedDict([('sparse_categorical_accuracy', 0.09580721), ('loss', 2.7766604), ('num_examples', 40832), ('num_batches', 319)])\n",
            "Runda   2: OrderedDict([('sparse_categorical_accuracy', 0.098966494), ('loss', 2.3550777), ('num_examples', 40832), ('num_batches', 319)])\n",
            "\n"
          ]
        }
      ],
      "source": [
        "buff = client100(1.6)"
      ]
    },
    {
      "cell_type": "code",
      "execution_count": 49,
      "metadata": {
        "colab": {
          "base_uri": "https://localhost:8080/"
        },
        "id": "e5hswbTFvup_",
        "outputId": "073f47ad-6b21-4469-db82-4ed3510e3b9d"
      },
      "outputs": [
        {
          "output_type": "stream",
          "name": "stdout",
          "text": [
            "Mnożnik szumu 1.6\n",
            "Runda   0: OrderedDict([('sparse_categorical_accuracy', 0.13220024), ('loss', 2.5178852), ('num_examples', 40832), ('num_batches', 319)])\n",
            "Runda   2: OrderedDict([('sparse_categorical_accuracy', 0.1361677), ('loss', 2.3245528), ('num_examples', 40832), ('num_batches', 319)])\n",
            "\n"
          ]
        }
      ],
      "source": [
        "buff = client100(1.6)"
      ]
    },
    {
      "cell_type": "code",
      "execution_count": 50,
      "metadata": {
        "id": "Wn8efhScvuxn",
        "colab": {
          "base_uri": "https://localhost:8080/"
        },
        "outputId": "ced60896-2250-437a-91c9-1547bb09ed9a"
      },
      "outputs": [
        {
          "output_type": "stream",
          "name": "stdout",
          "text": [
            "Mnożnik szumu 1.4\n",
            "Runda   0: OrderedDict([('sparse_categorical_accuracy', 0.09580721), ('loss', 2.6521897), ('num_examples', 40832), ('num_batches', 319)])\n",
            "Runda   2: OrderedDict([('sparse_categorical_accuracy', 0.1291879), ('loss', 2.3898077), ('num_examples', 40832), ('num_batches', 319)])\n",
            "\n"
          ]
        }
      ],
      "source": [
        "buff = client100(1.4)"
      ]
    },
    {
      "cell_type": "markdown",
      "metadata": {
        "id": "vXIbhIyiwt3G"
      },
      "source": [
        "Wykorzystane źródła TensorFlow federated learning:\n",
        "\n",
        "*   https://www.tensorflow.org/federated/tutorials/federated_learning_for_image_classification\n",
        "*   https://www.tensorflow.org/federated/tutorials/federated_learning_with_differential_privacy\n",
        "\n",
        "\n"
      ]
    }
  ],
  "metadata": {
    "colab": {
      "collapsed_sections": [],
      "machine_shape": "hm",
      "provenance": []
    },
    "kernelspec": {
      "display_name": "Python 3",
      "name": "python3"
    },
    "language_info": {
      "name": "python"
    }
  },
  "nbformat": 4,
  "nbformat_minor": 0
}