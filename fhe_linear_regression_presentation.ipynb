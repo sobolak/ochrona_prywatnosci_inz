{
  "nbformat": 4,
  "nbformat_minor": 0,
  "metadata": {
    "colab": {
      "provenance": [],
      "collapsed_sections": []
    },
    "kernelspec": {
      "name": "python3",
      "display_name": "Python 3"
    },
    "language_info": {
      "name": "python"
    }
  },
  "cells": [
    {
      "cell_type": "code",
      "execution_count": 1,
      "metadata": {
        "colab": {
          "base_uri": "https://localhost:8080/"
        },
        "id": "n1jiOFw1yCCc",
        "outputId": "8768b697-2ab6-42f1-e3f4-357d6adb8078"
      },
      "outputs": [
        {
          "output_type": "stream",
          "name": "stdout",
          "text": [
            "Mounted at /content/drive\n"
          ]
        }
      ],
      "source": [
        "import matplotlib.pyplot as plt\n",
        "import seaborn as sns\n",
        "import pandas as pd\n",
        "from google.colab import drive\n",
        "drive.mount('/content/drive')"
      ]
    },
    {
      "cell_type": "code",
      "source": [
        "buffor = pd.read_csv('/content/drive/MyDrive/inz/linear_regression_to_notebook.csv')"
      ],
      "metadata": {
        "id": "-wfKrAn5yk2S"
      },
      "execution_count": 2,
      "outputs": []
    },
    {
      "cell_type": "code",
      "source": [
        "buffor"
      ],
      "metadata": {
        "colab": {
          "base_uri": "https://localhost:8080/",
          "height": 300
        },
        "id": "AE5l9BIaylAr",
        "outputId": "70a4f911-092f-4ccd-9627-8d989a5e3908"
      },
      "execution_count": 4,
      "outputs": [
        {
          "output_type": "execute_result",
          "data": {
            "text/plain": [
              "   ilosc_probek   sklearn  quantized       fhe  interval_sklearn  \\\n",
              "0           100  0.855126   0.841327  0.841327          0.034968   \n",
              "1           200  0.869945   0.858941  0.858941          0.026130   \n",
              "2           500  0.839812   0.822996  0.822996          0.060455   \n",
              "3           750  0.847605   0.825436  0.825436          0.024870   \n",
              "4          1000  0.847326   0.834843  0.834843          0.066254   \n",
              "5          1500  0.853029   0.835213  0.835213          0.040435   \n",
              "6          2000  0.850261   0.827609  0.827609          0.036918   \n",
              "7          2500  0.860224   0.843296  0.843296          0.059106   \n",
              "\n",
              "   interval_quantizated  interval_fhe  \n",
              "0              0.017964      0.017964  \n",
              "1              0.014292      0.014292  \n",
              "2              0.039505      0.039505  \n",
              "3              0.074292      0.074292  \n",
              "4              0.047551      0.047551  \n",
              "5              0.025976      0.025976  \n",
              "6              0.043051      0.043051  \n",
              "7              0.027831      0.027831  "
            ],
            "text/html": [
              "\n",
              "  <div id=\"df-5b6ed88c-7ddd-446e-86d7-4b73ee9b8e94\">\n",
              "    <div class=\"colab-df-container\">\n",
              "      <div>\n",
              "<style scoped>\n",
              "    .dataframe tbody tr th:only-of-type {\n",
              "        vertical-align: middle;\n",
              "    }\n",
              "\n",
              "    .dataframe tbody tr th {\n",
              "        vertical-align: top;\n",
              "    }\n",
              "\n",
              "    .dataframe thead th {\n",
              "        text-align: right;\n",
              "    }\n",
              "</style>\n",
              "<table border=\"1\" class=\"dataframe\">\n",
              "  <thead>\n",
              "    <tr style=\"text-align: right;\">\n",
              "      <th></th>\n",
              "      <th>ilosc_probek</th>\n",
              "      <th>sklearn</th>\n",
              "      <th>quantized</th>\n",
              "      <th>fhe</th>\n",
              "      <th>interval_sklearn</th>\n",
              "      <th>interval_quantizated</th>\n",
              "      <th>interval_fhe</th>\n",
              "    </tr>\n",
              "  </thead>\n",
              "  <tbody>\n",
              "    <tr>\n",
              "      <th>0</th>\n",
              "      <td>100</td>\n",
              "      <td>0.855126</td>\n",
              "      <td>0.841327</td>\n",
              "      <td>0.841327</td>\n",
              "      <td>0.034968</td>\n",
              "      <td>0.017964</td>\n",
              "      <td>0.017964</td>\n",
              "    </tr>\n",
              "    <tr>\n",
              "      <th>1</th>\n",
              "      <td>200</td>\n",
              "      <td>0.869945</td>\n",
              "      <td>0.858941</td>\n",
              "      <td>0.858941</td>\n",
              "      <td>0.026130</td>\n",
              "      <td>0.014292</td>\n",
              "      <td>0.014292</td>\n",
              "    </tr>\n",
              "    <tr>\n",
              "      <th>2</th>\n",
              "      <td>500</td>\n",
              "      <td>0.839812</td>\n",
              "      <td>0.822996</td>\n",
              "      <td>0.822996</td>\n",
              "      <td>0.060455</td>\n",
              "      <td>0.039505</td>\n",
              "      <td>0.039505</td>\n",
              "    </tr>\n",
              "    <tr>\n",
              "      <th>3</th>\n",
              "      <td>750</td>\n",
              "      <td>0.847605</td>\n",
              "      <td>0.825436</td>\n",
              "      <td>0.825436</td>\n",
              "      <td>0.024870</td>\n",
              "      <td>0.074292</td>\n",
              "      <td>0.074292</td>\n",
              "    </tr>\n",
              "    <tr>\n",
              "      <th>4</th>\n",
              "      <td>1000</td>\n",
              "      <td>0.847326</td>\n",
              "      <td>0.834843</td>\n",
              "      <td>0.834843</td>\n",
              "      <td>0.066254</td>\n",
              "      <td>0.047551</td>\n",
              "      <td>0.047551</td>\n",
              "    </tr>\n",
              "    <tr>\n",
              "      <th>5</th>\n",
              "      <td>1500</td>\n",
              "      <td>0.853029</td>\n",
              "      <td>0.835213</td>\n",
              "      <td>0.835213</td>\n",
              "      <td>0.040435</td>\n",
              "      <td>0.025976</td>\n",
              "      <td>0.025976</td>\n",
              "    </tr>\n",
              "    <tr>\n",
              "      <th>6</th>\n",
              "      <td>2000</td>\n",
              "      <td>0.850261</td>\n",
              "      <td>0.827609</td>\n",
              "      <td>0.827609</td>\n",
              "      <td>0.036918</td>\n",
              "      <td>0.043051</td>\n",
              "      <td>0.043051</td>\n",
              "    </tr>\n",
              "    <tr>\n",
              "      <th>7</th>\n",
              "      <td>2500</td>\n",
              "      <td>0.860224</td>\n",
              "      <td>0.843296</td>\n",
              "      <td>0.843296</td>\n",
              "      <td>0.059106</td>\n",
              "      <td>0.027831</td>\n",
              "      <td>0.027831</td>\n",
              "    </tr>\n",
              "  </tbody>\n",
              "</table>\n",
              "</div>\n",
              "      <button class=\"colab-df-convert\" onclick=\"convertToInteractive('df-5b6ed88c-7ddd-446e-86d7-4b73ee9b8e94')\"\n",
              "              title=\"Convert this dataframe to an interactive table.\"\n",
              "              style=\"display:none;\">\n",
              "        \n",
              "  <svg xmlns=\"http://www.w3.org/2000/svg\" height=\"24px\"viewBox=\"0 0 24 24\"\n",
              "       width=\"24px\">\n",
              "    <path d=\"M0 0h24v24H0V0z\" fill=\"none\"/>\n",
              "    <path d=\"M18.56 5.44l.94 2.06.94-2.06 2.06-.94-2.06-.94-.94-2.06-.94 2.06-2.06.94zm-11 1L8.5 8.5l.94-2.06 2.06-.94-2.06-.94L8.5 2.5l-.94 2.06-2.06.94zm10 10l.94 2.06.94-2.06 2.06-.94-2.06-.94-.94-2.06-.94 2.06-2.06.94z\"/><path d=\"M17.41 7.96l-1.37-1.37c-.4-.4-.92-.59-1.43-.59-.52 0-1.04.2-1.43.59L10.3 9.45l-7.72 7.72c-.78.78-.78 2.05 0 2.83L4 21.41c.39.39.9.59 1.41.59.51 0 1.02-.2 1.41-.59l7.78-7.78 2.81-2.81c.8-.78.8-2.07 0-2.86zM5.41 20L4 18.59l7.72-7.72 1.47 1.35L5.41 20z\"/>\n",
              "  </svg>\n",
              "      </button>\n",
              "      \n",
              "  <style>\n",
              "    .colab-df-container {\n",
              "      display:flex;\n",
              "      flex-wrap:wrap;\n",
              "      gap: 12px;\n",
              "    }\n",
              "\n",
              "    .colab-df-convert {\n",
              "      background-color: #E8F0FE;\n",
              "      border: none;\n",
              "      border-radius: 50%;\n",
              "      cursor: pointer;\n",
              "      display: none;\n",
              "      fill: #1967D2;\n",
              "      height: 32px;\n",
              "      padding: 0 0 0 0;\n",
              "      width: 32px;\n",
              "    }\n",
              "\n",
              "    .colab-df-convert:hover {\n",
              "      background-color: #E2EBFA;\n",
              "      box-shadow: 0px 1px 2px rgba(60, 64, 67, 0.3), 0px 1px 3px 1px rgba(60, 64, 67, 0.15);\n",
              "      fill: #174EA6;\n",
              "    }\n",
              "\n",
              "    [theme=dark] .colab-df-convert {\n",
              "      background-color: #3B4455;\n",
              "      fill: #D2E3FC;\n",
              "    }\n",
              "\n",
              "    [theme=dark] .colab-df-convert:hover {\n",
              "      background-color: #434B5C;\n",
              "      box-shadow: 0px 1px 3px 1px rgba(0, 0, 0, 0.15);\n",
              "      filter: drop-shadow(0px 1px 2px rgba(0, 0, 0, 0.3));\n",
              "      fill: #FFFFFF;\n",
              "    }\n",
              "  </style>\n",
              "\n",
              "      <script>\n",
              "        const buttonEl =\n",
              "          document.querySelector('#df-5b6ed88c-7ddd-446e-86d7-4b73ee9b8e94 button.colab-df-convert');\n",
              "        buttonEl.style.display =\n",
              "          google.colab.kernel.accessAllowed ? 'block' : 'none';\n",
              "\n",
              "        async function convertToInteractive(key) {\n",
              "          const element = document.querySelector('#df-5b6ed88c-7ddd-446e-86d7-4b73ee9b8e94');\n",
              "          const dataTable =\n",
              "            await google.colab.kernel.invokeFunction('convertToInteractive',\n",
              "                                                     [key], {});\n",
              "          if (!dataTable) return;\n",
              "\n",
              "          const docLinkHtml = 'Like what you see? Visit the ' +\n",
              "            '<a target=\"_blank\" href=https://colab.research.google.com/notebooks/data_table.ipynb>data table notebook</a>'\n",
              "            + ' to learn more about interactive tables.';\n",
              "          element.innerHTML = '';\n",
              "          dataTable['output_type'] = 'display_data';\n",
              "          await google.colab.output.renderOutput(dataTable, element);\n",
              "          const docLink = document.createElement('div');\n",
              "          docLink.innerHTML = docLinkHtml;\n",
              "          element.appendChild(docLink);\n",
              "        }\n",
              "      </script>\n",
              "    </div>\n",
              "  </div>\n",
              "  "
            ]
          },
          "metadata": {},
          "execution_count": 4
        }
      ]
    },
    {
      "cell_type": "code",
      "source": [
        "buffor[buffor.ilosc_probek == 100].ilosc_probek"
      ],
      "metadata": {
        "colab": {
          "base_uri": "https://localhost:8080/"
        },
        "id": "T1BBWaVx15kW",
        "outputId": "b0b1105e-fc46-42ab-8797-3da920c7ec6e"
      },
      "execution_count": 7,
      "outputs": [
        {
          "output_type": "execute_result",
          "data": {
            "text/plain": [
              "0    100\n",
              "Name: ilosc_probek, dtype: int64"
            ]
          },
          "metadata": {},
          "execution_count": 7
        }
      ]
    },
    {
      "cell_type": "code",
      "source": [
        "from tabulate import tabulate\n",
        "\n",
        "table = [['ilosc próbek', 'sklearn', 'po kwantyzacji', 'szyfrowanie homomorficzne', 'sklearn przedział ufności', 'po kwantyzacji przedział ufności', 'fhe przedział ufności'],\n",
        "         [buffor[buffor.ilosc_probek == 100].ilosc_probek, buffor[buffor.ilosc_probek == 100].sklearn, buffor[buffor.ilosc_probek == 100].quantized ,buffor[buffor.ilosc_probek == 100].fhe , buffor[buffor.ilosc_probek == 100].interval_sklearn ,buffor[buffor.ilosc_probek == 100].interval_quantizated , buffor[buffor.ilosc_probek == 100].interval_fhe],\n",
        "         [buffor[buffor.ilosc_probek == 200].ilosc_probek, buffor[buffor.ilosc_probek == 200].sklearn, buffor[buffor.ilosc_probek == 200].quantized ,buffor[buffor.ilosc_probek == 200].fhe , buffor[buffor.ilosc_probek == 200].interval_sklearn ,buffor[buffor.ilosc_probek == 200].interval_quantizated , buffor[buffor.ilosc_probek == 200].interval_fhe],\n",
        "         [buffor[buffor.ilosc_probek == 500].ilosc_probek, buffor[buffor.ilosc_probek == 500].sklearn, buffor[buffor.ilosc_probek == 500].quantized ,buffor[buffor.ilosc_probek == 500].fhe , buffor[buffor.ilosc_probek == 500].interval_sklearn ,buffor[buffor.ilosc_probek == 500].interval_quantizated , buffor[buffor.ilosc_probek == 500].interval_fhe],\n",
        "         [buffor[buffor.ilosc_probek == 750].ilosc_probek, buffor[buffor.ilosc_probek == 750].sklearn, buffor[buffor.ilosc_probek == 750].quantized ,buffor[buffor.ilosc_probek == 750].fhe , buffor[buffor.ilosc_probek == 750].interval_sklearn ,buffor[buffor.ilosc_probek == 750].interval_quantizated , buffor[buffor.ilosc_probek == 750].interval_fhe],\n",
        "         [buffor[buffor.ilosc_probek == 1000].ilosc_probek, buffor[buffor.ilosc_probek == 1000].sklearn, buffor[buffor.ilosc_probek == 1000].quantized ,buffor[buffor.ilosc_probek == 1000].fhe , buffor[buffor.ilosc_probek == 1000].interval_sklearn ,buffor[buffor.ilosc_probek == 1000].interval_quantizated , buffor[buffor.ilosc_probek == 1000].interval_fhe],\n",
        "         [buffor[buffor.ilosc_probek == 1500].ilosc_probek, buffor[buffor.ilosc_probek == 1500].sklearn, buffor[buffor.ilosc_probek == 1500].quantized ,buffor[buffor.ilosc_probek == 1500].fhe , buffor[buffor.ilosc_probek == 1500].interval_sklearn ,buffor[buffor.ilosc_probek == 1500].interval_quantizated , buffor[buffor.ilosc_probek == 1500].interval_fhe],\n",
        "         [buffor[buffor.ilosc_probek == 2000].ilosc_probek, buffor[buffor.ilosc_probek == 2000].sklearn, buffor[buffor.ilosc_probek == 2000].quantized ,buffor[buffor.ilosc_probek == 2000].fhe , buffor[buffor.ilosc_probek == 2000].interval_sklearn ,buffor[buffor.ilosc_probek == 2000].interval_quantizated , buffor[buffor.ilosc_probek == 2000].interval_fhe],\n",
        "         [buffor[buffor.ilosc_probek == 2500].ilosc_probek, buffor[buffor.ilosc_probek == 2500].sklearn, buffor[buffor.ilosc_probek == 2500].quantized ,buffor[buffor.ilosc_probek == 2500].fhe , buffor[buffor.ilosc_probek == 2500].interval_sklearn ,buffor[buffor.ilosc_probek == 2500].interval_quantizated , buffor[buffor.ilosc_probek == 2500].interval_fhe]]\n",
        "\n",
        "print(tabulate(table, headers='firstrow', tablefmt='fancy_grid'))"
      ],
      "metadata": {
        "colab": {
          "base_uri": "https://localhost:8080/"
        },
        "id": "6fVYNwe85nTY",
        "outputId": "54553501-5ba5-47a3-9f71-06ea148a1cf9"
      },
      "execution_count": 14,
      "outputs": [
        {
          "output_type": "stream",
          "name": "stdout",
          "text": [
            "╒════════════════╤═══════════╤══════════════════╤═════════════════════════════╤═════════════════════════════╤════════════════════════════════════╤═════════════════════════╕\n",
            "│   ilosc próbek │   sklearn │   po kwantyzacji │   szyfrowanie homomorficzne │   sklearn przedział ufności │   po kwantyzacji przedział ufności │   fhe przedział ufności │\n",
            "╞════════════════╪═══════════╪══════════════════╪═════════════════════════════╪═════════════════════════════╪════════════════════════════════════╪═════════════════════════╡\n",
            "│            100 │  0.855126 │         0.841327 │                    0.841327 │                   0.0349679 │                          0.0179637 │               0.0179637 │\n",
            "├────────────────┼───────────┼──────────────────┼─────────────────────────────┼─────────────────────────────┼────────────────────────────────────┼─────────────────────────┤\n",
            "│            200 │  0.869945 │         0.858941 │                    0.858941 │                   0.0261302 │                          0.0142919 │               0.0142919 │\n",
            "├────────────────┼───────────┼──────────────────┼─────────────────────────────┼─────────────────────────────┼────────────────────────────────────┼─────────────────────────┤\n",
            "│            500 │  0.839812 │         0.822996 │                    0.822996 │                   0.0604547 │                          0.0395055 │               0.0395055 │\n",
            "├────────────────┼───────────┼──────────────────┼─────────────────────────────┼─────────────────────────────┼────────────────────────────────────┼─────────────────────────┤\n",
            "│            750 │  0.847605 │         0.825436 │                    0.825436 │                   0.0248703 │                          0.0742915 │               0.0742915 │\n",
            "├────────────────┼───────────┼──────────────────┼─────────────────────────────┼─────────────────────────────┼────────────────────────────────────┼─────────────────────────┤\n",
            "│           1000 │  0.847326 │         0.834843 │                    0.834843 │                   0.0662537 │                          0.0475507 │               0.0475507 │\n",
            "├────────────────┼───────────┼──────────────────┼─────────────────────────────┼─────────────────────────────┼────────────────────────────────────┼─────────────────────────┤\n",
            "│           1500 │  0.853029 │         0.835213 │                    0.835213 │                   0.0404353 │                          0.0259764 │               0.0259764 │\n",
            "├────────────────┼───────────┼──────────────────┼─────────────────────────────┼─────────────────────────────┼────────────────────────────────────┼─────────────────────────┤\n",
            "│           2000 │  0.850261 │         0.827609 │                    0.827609 │                   0.0369176 │                          0.0430509 │               0.0430509 │\n",
            "├────────────────┼───────────┼──────────────────┼─────────────────────────────┼─────────────────────────────┼────────────────────────────────────┼─────────────────────────┤\n",
            "│           2500 │  0.860224 │         0.843296 │                    0.843296 │                   0.0591058 │                          0.0278312 │               0.0278312 │\n",
            "╘════════════════╧═══════════╧══════════════════╧═════════════════════════════╧═════════════════════════════╧════════════════════════════════════╧═════════════════════════╛\n"
          ]
        }
      ]
    }
  ]
}